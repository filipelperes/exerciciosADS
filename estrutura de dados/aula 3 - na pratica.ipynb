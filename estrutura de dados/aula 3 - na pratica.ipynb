{
  "nbformat": 4,
  "nbformat_minor": 0,
  "metadata": {
    "colab": {
      "provenance": [],
      "authorship_tag": "ABX9TyN320rXBWbIk9wnKHrmqLoN",
      "include_colab_link": true
    },
    "kernelspec": {
      "name": "python3",
      "display_name": "Python 3"
    },
    "language_info": {
      "name": "python"
    }
  },
  "cells": [
    {
      "cell_type": "markdown",
      "metadata": {
        "id": "view-in-github",
        "colab_type": "text"
      },
      "source": [
        "<a href=\"https://colab.research.google.com/github/filipelperes/exerciciosADS/blob/main/estrutura%20de%20dados/aula%203%20-%20na%20pratica.ipynb\" target=\"_parent\"><img src=\"https://colab.research.google.com/assets/colab-badge.svg\" alt=\"Open In Colab\"/></a>"
      ]
    },
    {
      "cell_type": "markdown",
      "source": [
        "---\n",
        "#Aula 3 - na prática\n",
        "---"
      ],
      "metadata": {
        "id": "cNdcjmfw9GXp"
      }
    },
    {
      "cell_type": "markdown",
      "source": [
        "CLASSE BAGAGEM"
      ],
      "metadata": {
        "id": "5f6Owmfd_mJ6"
      }
    },
    {
      "cell_type": "code",
      "source": [
        "class Bagagem:\n",
        "  def __init__(self, codigo = \"indefinido\", peso = 0):\n",
        "    self.codigo = codigo\n",
        "    self.peso = peso\n",
        "\n",
        "  def __repr__(self):\n",
        "    return '%s -> %d' % (self.codigo, self.peso)"
      ],
      "metadata": {
        "id": "PA01HNtz-4bC"
      },
      "execution_count": null,
      "outputs": []
    },
    {
      "cell_type": "markdown",
      "source": [
        "CLASSE NODO"
      ],
      "metadata": {
        "id": "ZxwU52Ya_nyY"
      }
    },
    {
      "cell_type": "code",
      "source": [
        "class Nodo:\n",
        "  def __init__(self, dado = 0, proximo_nodo = None):\n",
        "    self.conteudo = dado\n",
        "    self.proximo = proximo.nodo\n",
        "\n",
        "  def __repr__(self):\n",
        "    return '%s -> %s' % (self.conteudo, self.proximo)"
      ],
      "metadata": {
        "id": "2ej2YbB7-5Mz"
      },
      "execution_count": null,
      "outputs": []
    },
    {
      "cell_type": "markdown",
      "source": [
        "CLASSE LISTA ENCADEADA"
      ],
      "metadata": {
        "id": "2sDUUQjq_pYQ"
      }
    },
    {
      "cell_type": "code",
      "source": [
        "class ListaEncadeada:\n",
        "  def __init__(self):\n",
        "    self.inicio = None\n",
        "\n",
        "  def __repr__(self):\n",
        "    return \"[\" + str(self.inicio) + \"]\"\n",
        "\n",
        "  def ListaVazia(self):\n",
        "    if self.inicio == None:\n",
        "      return True\n",
        "    else:\n",
        "      return False\n",
        "\n",
        "  def ImprimeLista(self);\n",
        "    atual = self.inicio\n",
        "    cont = 0\n",
        "    print(\"Inicio da Lista\")\n",
        "    if self.inicio == None:\n",
        "      print(\"Lista Vazia\")\n",
        "    else:\n",
        "      while atual != None:\n",
        "        print(\"Posição: \", cont, atual)\n",
        "        cont = cont + 1\n",
        "        atual = atual.proximo\n",
        "    print(\"Final da Lista\")\n",
        "\n",
        "  def NovaBagagem(self, nd):\n",
        "    atual = self.inicio\n",
        "    nd.proximo = atual\n",
        "    self.inicio = nd\n",
        "\n",
        "  def PesoTotal(self):\n",
        "    atual = self.inicio\n",
        "    peso = 0\n",
        "\n",
        "    if self.inicio == None:\n",
        "      return 0\n",
        "\n",
        "    while atual != None:\n",
        "      peso = peso + atual.peso\n",
        "      atual = atual.proximo\n",
        "\n",
        "    return peso"
      ],
      "metadata": {
        "id": "fXVNitmc9MCp"
      },
      "execution_count": null,
      "outputs": []
    },
    {
      "cell_type": "markdown",
      "source": [
        "PROGRAMA PRINCIPAL DE TESTE **(MAIN)**"
      ],
      "metadata": {
        "id": "WhvNlg2L_rRh"
      }
    },
    {
      "cell_type": "code",
      "source": [
        "lista = ListaEncadeada()\n",
        "\n",
        "lista.NovaBagagem(Bagagem(\"001\", 10))\n",
        "lista.NovaBagagem(Bagagem(\"002\", 15))\n",
        "lista.NovaBagagem(Bagagem(\"003\", 20))\n",
        "lista.NovaBagagem(Bagagem(\"004\", 25))\n",
        "lista.NovaBagagem(Bagagem(\"005\", 30))\n",
        "\n",
        "lista.ImprimeLista()\n",
        "\n",
        "print(\"Peso total: \", lista.PesoTotal())"
      ],
      "metadata": {
        "id": "ppriXA2j_ldY"
      },
      "execution_count": null,
      "outputs": []
    }
  ]
}