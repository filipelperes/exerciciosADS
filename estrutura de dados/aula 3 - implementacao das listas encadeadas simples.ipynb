{
  "nbformat": 4,
  "nbformat_minor": 0,
  "metadata": {
    "colab": {
      "provenance": [],
      "authorship_tag": "ABX9TyONTR6TpIEfRuExu5eSILsQ",
      "include_colab_link": true
    },
    "kernelspec": {
      "name": "python3",
      "display_name": "Python 3"
    },
    "language_info": {
      "name": "python"
    }
  },
  "cells": [
    {
      "cell_type": "markdown",
      "metadata": {
        "id": "view-in-github",
        "colab_type": "text"
      },
      "source": [
        "<a href=\"https://colab.research.google.com/github/filipelperes/exerciciosADS/blob/main/estrutura%20de%20dados/aula%203%20-%20implementacao%20das%20listas%20encadeadas%20simples.ipynb\" target=\"_parent\"><img src=\"https://colab.research.google.com/assets/colab-badge.svg\" alt=\"Open In Colab\"/></a>"
      ]
    },
    {
      "cell_type": "markdown",
      "source": [
        "# Exemplos do livro"
      ],
      "metadata": {
        "id": "cEneoM3obny3"
      }
    },
    {
      "cell_type": "markdown",
      "source": [
        "### count(elemento) - informa a quantidade de elementos enviados por parâmetro que existem na variável lista."
      ],
      "metadata": {
        "id": "3FV-U7rkb0VP"
      }
    },
    {
      "cell_type": "markdown",
      "source": [
        "Lista de animais"
      ],
      "metadata": {
        "id": "KeCk-LBfcCi9"
      }
    },
    {
      "cell_type": "code",
      "source": [
        "animais = ['Gato', 'Cachorro', 'Papagaio', 'Gato']"
      ],
      "metadata": {
        "id": "mWuvKD04byfg"
      },
      "execution_count": null,
      "outputs": []
    },
    {
      "cell_type": "markdown",
      "source": [
        "Imprime a nova lista"
      ],
      "metadata": {
        "id": "k0Mtbs9tcLw0"
      }
    },
    {
      "cell_type": "code",
      "source": [
        "print(animais.count('Gato'))"
      ],
      "metadata": {
        "id": "ouzldoNmcOhV"
      },
      "execution_count": null,
      "outputs": []
    },
    {
      "cell_type": "markdown",
      "source": [
        "### clear() - Realiza a limpeza de todos os nodos de uma lista. Essa limpeza libera o espaço ocupado na memória do computador. Uma vez executada, os dados não poderão ser recuperados."
      ],
      "metadata": {
        "id": "KOC_opfWcWQk"
      }
    },
    {
      "cell_type": "markdown",
      "source": [
        "Lista de animais"
      ],
      "metadata": {
        "id": "eqRHhlsLcqgs"
      }
    },
    {
      "cell_type": "code",
      "source": [
        "animais = ['Gato', 'Cachorro', 'Papagaio', 'Gato']"
      ],
      "metadata": {
        "id": "YTiU1Rl_cs8Q"
      },
      "execution_count": null,
      "outputs": []
    },
    {
      "cell_type": "markdown",
      "source": [
        "Imprime a lista"
      ],
      "metadata": {
        "id": "389guoOAc1R9"
      }
    },
    {
      "cell_type": "code",
      "source": [
        "print(animais)"
      ],
      "metadata": {
        "id": "BDtJzVSZc3N0"
      },
      "execution_count": null,
      "outputs": []
    },
    {
      "cell_type": "markdown",
      "source": [
        "Limpa os elementos da lista"
      ],
      "metadata": {
        "id": "2Kquj-g1c5oF"
      }
    },
    {
      "cell_type": "code",
      "source": [
        "animais.clear()"
      ],
      "metadata": {
        "id": "S523oAmmc8Jd"
      },
      "execution_count": null,
      "outputs": []
    },
    {
      "cell_type": "markdown",
      "source": [
        "Imprime a lista"
      ],
      "metadata": {
        "id": "JKJaRaQyc_S8"
      }
    },
    {
      "cell_type": "code",
      "source": [
        "print(animais)"
      ],
      "metadata": {
        "id": "Th-RMM9XdBsH"
      },
      "execution_count": null,
      "outputs": []
    },
    {
      "cell_type": "markdown",
      "source": [
        "###append(elemento) - adiciona a variável elemento ao final da lista."
      ],
      "metadata": {
        "id": "QIiiK-sDdG3k"
      }
    },
    {
      "cell_type": "markdown",
      "source": [
        "Lista de animais"
      ],
      "metadata": {
        "id": "RCYiIKWJdN3E"
      }
    },
    {
      "cell_type": "code",
      "source": [
        "animais = ['Gato', 'Cachorro', 'Papagaio']"
      ],
      "metadata": {
        "id": "MK9gmwCWdTEP"
      },
      "execution_count": null,
      "outputs": []
    },
    {
      "cell_type": "markdown",
      "source": [
        "Adiciona o coelho no final da lista"
      ],
      "metadata": {
        "id": "O4v14XwldZZd"
      }
    },
    {
      "cell_type": "code",
      "source": [
        "animais.append('Coelho')"
      ],
      "metadata": {
        "id": "WDAx8L7FdcBI"
      },
      "execution_count": null,
      "outputs": []
    },
    {
      "cell_type": "markdown",
      "source": [
        "Imprime a nova lista"
      ],
      "metadata": {
        "id": "SQzXNwKzdgFA"
      }
    },
    {
      "cell_type": "code",
      "source": [
        "print('Atualização da lista: ', animais)"
      ],
      "metadata": {
        "id": "K6sj8jWWdiiM"
      },
      "execution_count": null,
      "outputs": []
    },
    {
      "cell_type": "markdown",
      "source": [
        "###insert(posição, elemento) - Adiciona o elemento em uma posição específica de uma lista."
      ],
      "metadata": {
        "id": "dfh80-6BdoUM"
      }
    },
    {
      "cell_type": "markdown",
      "source": [
        "Lista de animais"
      ],
      "metadata": {
        "id": "8-i_e7rldxDk"
      }
    },
    {
      "cell_type": "code",
      "source": [
        "animais = ['Gato', 'Cachorro', 'Papagaio', 'Gato']"
      ],
      "metadata": {
        "id": "UNLwzjced0qJ"
      },
      "execution_count": null,
      "outputs": []
    },
    {
      "cell_type": "markdown",
      "source": [
        "Imprime a lista"
      ],
      "metadata": {
        "id": "OUIzpTdzd6aE"
      }
    },
    {
      "cell_type": "code",
      "source": [
        "print(animais)"
      ],
      "metadata": {
        "id": "296KNWqJd71M"
      },
      "execution_count": null,
      "outputs": []
    },
    {
      "cell_type": "markdown",
      "source": [
        "Insere o elemento Rato na posição 1 da lista"
      ],
      "metadata": {
        "id": "1ldbw4r3d90v"
      }
    },
    {
      "cell_type": "code",
      "source": [
        "animais.insert(1, 'Rato')"
      ],
      "metadata": {
        "id": "pFl8MDLZeCos"
      },
      "execution_count": null,
      "outputs": []
    },
    {
      "cell_type": "markdown",
      "source": [
        "Imprime a lista"
      ],
      "metadata": {
        "id": "9Vv6E4OHeHhz"
      }
    },
    {
      "cell_type": "code",
      "source": [
        "print(animais)"
      ],
      "metadata": {
        "id": "QTYh93ryeIvl"
      },
      "execution_count": null,
      "outputs": []
    },
    {
      "cell_type": "markdown",
      "source": [
        "###remove(elemento) - Realiza a remoção da primeira ocorrência do elemento em uma determinada lista."
      ],
      "metadata": {
        "id": "nv-Gpl8aeSX8"
      }
    },
    {
      "cell_type": "markdown",
      "source": [
        "Lista de animais"
      ],
      "metadata": {
        "id": "Frj4NPvIebL8"
      }
    },
    {
      "cell_type": "code",
      "source": [
        "animais = ['Gato', 'Cachorro', 'Papagaio', 'Gato']"
      ],
      "metadata": {
        "id": "e-CVqP3veamb"
      },
      "execution_count": null,
      "outputs": []
    },
    {
      "cell_type": "markdown",
      "source": [
        "Imprime a lista"
      ],
      "metadata": {
        "id": "EFDaUTj7ekB8"
      }
    },
    {
      "cell_type": "code",
      "source": [
        "print(animais)"
      ],
      "metadata": {
        "id": "jTLNXKemelMr"
      },
      "execution_count": null,
      "outputs": []
    },
    {
      "cell_type": "markdown",
      "source": [
        "Remove a primeira ocorrência do elemento Gato na Lista"
      ],
      "metadata": {
        "id": "pYhbXRkfemhr"
      }
    },
    {
      "cell_type": "code",
      "source": [
        "animais.remove('Gato')"
      ],
      "metadata": {
        "id": "QuZwiRTherwU"
      },
      "execution_count": null,
      "outputs": []
    },
    {
      "cell_type": "markdown",
      "source": [
        "Imprime a lista"
      ],
      "metadata": {
        "id": "oYUGrCvkeu2T"
      }
    },
    {
      "cell_type": "code",
      "source": [
        "print(animais)"
      ],
      "metadata": {
        "id": "lExJRNCWewfT"
      },
      "execution_count": null,
      "outputs": []
    },
    {
      "cell_type": "markdown",
      "source": [
        "###index(elemento) - Retorna a posição da primeira ocorrência do elemento em uma lista"
      ],
      "metadata": {
        "id": "jiRNmoCVe1kz"
      }
    },
    {
      "cell_type": "markdown",
      "source": [
        "Lista de animais"
      ],
      "metadata": {
        "id": "Ie9ZHl5le9Gt"
      }
    },
    {
      "cell_type": "code",
      "source": [
        "animais = ['Gato', 'Cachorro', 'Papagaio', 'Gato']"
      ],
      "metadata": {
        "id": "-a9WVpBae_0u"
      },
      "execution_count": null,
      "outputs": []
    },
    {
      "cell_type": "markdown",
      "source": [
        "Imprime a lista"
      ],
      "metadata": {
        "id": "Y3llwPEhfHOT"
      }
    },
    {
      "cell_type": "code",
      "source": [
        "print(animais)"
      ],
      "metadata": {
        "id": "VodR4_N8fIi2"
      },
      "execution_count": null,
      "outputs": []
    },
    {
      "cell_type": "markdown",
      "source": [
        "Retorna e imprime a primeira ocorrência do elemento Cachorro"
      ],
      "metadata": {
        "id": "Ya_vjtXrfKPD"
      }
    },
    {
      "cell_type": "code",
      "source": [
        "print(animais.index('Cachorro'))"
      ],
      "metadata": {
        "id": "TxfQ1JINfP5L"
      },
      "execution_count": null,
      "outputs": []
    },
    {
      "cell_type": "markdown",
      "source": [
        "###range(inicio, fim, incremento(opcional)) - Gera listas contendo progressões aritméticas por intervalo informando, ou não, o respectivo incremento entre os nodos."
      ],
      "metadata": {
        "id": "OsfKYE_nfV_b"
      }
    },
    {
      "cell_type": "markdown",
      "source": [
        "Gera uma lista de 5 elementos iniciando em zero com incremento padrão +1"
      ],
      "metadata": {
        "id": "GxJrTEizfnhT"
      }
    },
    {
      "cell_type": "code",
      "source": [
        "print(list(range(5)))"
      ],
      "metadata": {
        "id": "Wq2vR0jmf0kL"
      },
      "execution_count": null,
      "outputs": []
    },
    {
      "cell_type": "markdown",
      "source": [
        "Gera uma lista com inicio no elemento 2, final do elemento 20, com incremento de +3 em cada nodo"
      ],
      "metadata": {
        "id": "GvBUeKKwf4GL"
      }
    },
    {
      "cell_type": "code",
      "source": [
        "print(list(range(2, 20, 3)))"
      ],
      "metadata": {
        "id": "4ME-1Zm5gCgb"
      },
      "execution_count": null,
      "outputs": []
    },
    {
      "cell_type": "markdown",
      "source": [
        "Gera uma sequência de 0 a 9"
      ],
      "metadata": {
        "id": "vIifvCrcgHDu"
      }
    },
    {
      "cell_type": "code",
      "source": [
        "print(list(range(10)))"
      ],
      "metadata": {
        "id": "viHLcO58gMhT"
      },
      "execution_count": null,
      "outputs": []
    },
    {
      "cell_type": "markdown",
      "source": [
        "Gera uma sequência de 1 a 11"
      ],
      "metadata": {
        "id": "Nka2yYVPgPQM"
      }
    },
    {
      "cell_type": "code",
      "source": [
        "print(list(range(1, 11)))"
      ],
      "metadata": {
        "id": "-seh8Z-jgW67"
      },
      "execution_count": null,
      "outputs": []
    },
    {
      "cell_type": "markdown",
      "source": [
        "Gera uma sequência de 0 a 30 com incremento de 5"
      ],
      "metadata": {
        "id": "1aYxZWqEgZyb"
      }
    },
    {
      "cell_type": "code",
      "source": [
        "print(list(range(0, 30, 5)))"
      ],
      "metadata": {
        "id": "eLrs7Q-Hge6L"
      },
      "execution_count": null,
      "outputs": []
    },
    {
      "cell_type": "markdown",
      "source": [
        "Gera uma sequência com os 5 primeiros números da tabuada de 3"
      ],
      "metadata": {
        "id": "nE3h0sPJgjyr"
      }
    },
    {
      "cell_type": "code",
      "source": [
        "print(list(range(0, 10, 3)))"
      ],
      "metadata": {
        "id": "8pvsHgTIgqKe"
      },
      "execution_count": null,
      "outputs": []
    },
    {
      "cell_type": "markdown",
      "source": [
        "Gera uma sequência numérica negativa"
      ],
      "metadata": {
        "id": "7vir4F04gwaz"
      }
    },
    {
      "cell_type": "code",
      "source": [
        "print(list(range(0, -10, -1)))"
      ],
      "metadata": {
        "id": "bOIjeM0QgzXz"
      },
      "execution_count": null,
      "outputs": []
    },
    {
      "cell_type": "markdown",
      "source": [
        "Gera uma sequência numérica vazia"
      ],
      "metadata": {
        "id": "pT6ZVgTDg3YK"
      }
    },
    {
      "cell_type": "code",
      "source": [
        "print(list(range(0)))"
      ],
      "metadata": {
        "id": "xPR4xXa3g707"
      },
      "execution_count": null,
      "outputs": []
    },
    {
      "cell_type": "markdown",
      "source": [
        "## Criação da classe Nodo"
      ],
      "metadata": {
        "id": "gSmDuucphW17"
      }
    },
    {
      "cell_type": "markdown",
      "source": [
        "Classe Nodo"
      ],
      "metadata": {
        "id": "ATzgfbZvhdnF"
      }
    },
    {
      "cell_type": "code",
      "source": [
        "class Nodo:\n",
        "  def __init__(self, dado = None, proximo_nodo = None):\n",
        "    self.conteudo = dado\n",
        "    self.proximo = proximo_nodo\n",
        "\n",
        "  def __repr__(self):\n",
        "    return '%s -> %s' % (self.conteudo, self.proximo)"
      ],
      "metadata": {
        "id": "n_zjfA5UhZ_S"
      },
      "execution_count": null,
      "outputs": []
    },
    {
      "cell_type": "markdown",
      "source": [
        "Programa principal de teste"
      ],
      "metadata": {
        "id": "0Sftd3Pfh2nS"
      }
    },
    {
      "cell_type": "code",
      "source": [
        "nd = Nodo()\n",
        "print(nd)\n",
        "\n",
        "nd2 = Nodo(\"casa\")\n",
        "print(nd2)"
      ],
      "metadata": {
        "id": "Pr3TojSwh501"
      },
      "execution_count": null,
      "outputs": []
    },
    {
      "cell_type": "markdown",
      "source": [
        "##Criação de classe Lista Encadeada"
      ],
      "metadata": {
        "id": "MncPh4bZiA4y"
      }
    },
    {
      "cell_type": "markdown",
      "source": [
        "Classe Lista Encadeada"
      ],
      "metadata": {
        "id": "pHZ6pNYKiJGL"
      }
    },
    {
      "cell_type": "code",
      "source": [
        "class ListaEncadeada:\n",
        "  def __init__(self):\n",
        "    self.inicio = None\n",
        "\n",
        "  def __repr__(self):\n",
        "    return \"[\" + str(self.inicio) + \"]\""
      ],
      "metadata": {
        "id": "UmrmqpHCiNHT"
      },
      "execution_count": null,
      "outputs": []
    },
    {
      "cell_type": "markdown",
      "source": [
        "Programa principal de teste"
      ],
      "metadata": {
        "id": "JtXIGjpRif32"
      }
    },
    {
      "cell_type": "code",
      "source": [
        "lista = ListaEncadeada()\n",
        "nd = Nodo(\"Primeiro\")\n",
        "lista.inicio = nd\n",
        "print(lista)"
      ],
      "metadata": {
        "id": "HtvIavC1iiib"
      },
      "execution_count": null,
      "outputs": []
    },
    {
      "cell_type": "markdown",
      "source": [
        "#ABAIXO VEMOS MÉTODOS DA CLASSE LISTA ENCADEADA"
      ],
      "metadata": {
        "id": "PR0HTIhf3w6l"
      }
    },
    {
      "cell_type": "markdown",
      "source": [
        "##Criação da função Imprime Lista"
      ],
      "metadata": {
        "id": "pDepLflt4jP8"
      }
    },
    {
      "cell_type": "code",
      "source": [
        "def imprimeLista(self):\n",
        "  atual = self.inicio\n",
        "  cont = 0\n",
        "\n",
        "  print(\"Inicio da Lista\")\n",
        "  if self.inicio == None:\n",
        "    print(\"Lista Vazia\")\n",
        "  else:\n",
        "    while atual != None:\n",
        "      print(\"Posição: \", cont, atual)\n",
        "      cont = cont + 1\n",
        "      atual = atual.proximo\n",
        "  print(\"Final da Lista\")\n"
      ],
      "metadata": {
        "id": "Bk5MiKNa4nYe"
      },
      "execution_count": null,
      "outputs": []
    },
    {
      "cell_type": "markdown",
      "source": [
        "##Criação de função Lista Vazia"
      ],
      "metadata": {
        "id": "7sQtm5QCi1AC"
      }
    },
    {
      "cell_type": "markdown",
      "source": [
        "Método que verifica se a lista está vazia, caso positivo retorna True caso contrário False"
      ],
      "metadata": {
        "id": "jviIfBQzi4WD"
      }
    },
    {
      "cell_type": "code",
      "source": [
        "def listaVazia(lista):\n",
        "  if lista.inicio == None:\n",
        "    return True\n",
        "  else:\n",
        "    return False"
      ],
      "metadata": {
        "id": "QBuVY551jBd0"
      },
      "execution_count": null,
      "outputs": []
    },
    {
      "cell_type": "markdown",
      "source": [
        "Programa principal de teste"
      ],
      "metadata": {
        "id": "ONgatoeIjQQX"
      }
    },
    {
      "cell_type": "code",
      "source": [
        "lista = ListaEncadeada()\n",
        "print(\"A lista está vazia: \", listaVazia(lista))\n",
        "\n",
        "nd = Nodo(\"Primeiro\")\n",
        "lista.inicio = nd\n",
        "\n",
        "print(\"A lista está vazia: \", listaVazia(lista))"
      ],
      "metadata": {
        "id": "BwS786jkjS8p"
      },
      "execution_count": null,
      "outputs": []
    },
    {
      "cell_type": "markdown",
      "source": [
        "##Criação do método Tamanho Lista"
      ],
      "metadata": {
        "id": "7foV0TjujuTK"
      }
    },
    {
      "cell_type": "markdown",
      "source": [
        "Método que informa o tamanho da lista"
      ],
      "metadata": {
        "id": "41xaABvIjyyy"
      }
    },
    {
      "cell_type": "code",
      "source": [
        "def tamanhoLista(self):\n",
        "  atual = self.inicio\n",
        "  tamanho = 0\n",
        "\n",
        "  \"\"\" Verifica se a lista está vazia e já retorna com Zero \"\"\"\n",
        "  if self.inicio == None:\n",
        "    return 0\n",
        "\n",
        "  \"\"\" Verifica se a lista possui somente um elemento \"\"\"\n",
        "  if atual.conteudo != None and atual.proximo == None:\n",
        "    tamanho = 1\n",
        "\n",
        "  \"\"\" Percorre toda a lista até o último nodo ser vazio, incrementando com +1 em cada Loop e passando para a posição do próximo nodo \"\"\"\n",
        "  while atual.proximo != None:\n",
        "    tamanho = tamanho + 1\n",
        "    atual = atual.proximo\n",
        "    \n",
        "  return tamanho\n"
      ],
      "metadata": {
        "id": "1de_bcAFj16U"
      },
      "execution_count": null,
      "outputs": []
    },
    {
      "cell_type": "markdown",
      "source": [
        "Programa principal de teste"
      ],
      "metadata": {
        "id": "QZ7_iZE5k-Lm"
      }
    },
    {
      "cell_type": "code",
      "source": [
        "lista = ListaEncadeada()\n",
        "nd = Nodo(\"Primeiro\")"
      ],
      "metadata": {
        "id": "oT5mChlxlAKx"
      },
      "execution_count": null,
      "outputs": []
    },
    {
      "cell_type": "markdown",
      "source": [
        "Adiciona 1 elemento na lista"
      ],
      "metadata": {
        "id": "FiCqgDgzlFnh"
      }
    },
    {
      "cell_type": "code",
      "source": [
        "lista.inicio = nd\n",
        "\n",
        "print(\"O tamanho da lista: \", tamanhoLista(lista))"
      ],
      "metadata": {
        "id": "EF3gg8xjlHUZ"
      },
      "execution_count": null,
      "outputs": []
    },
    {
      "cell_type": "markdown",
      "source": [
        "##Criação da função Adiciona Inicio"
      ],
      "metadata": {
        "id": "xDlm8Z77miQD"
      }
    },
    {
      "cell_type": "markdown",
      "source": [
        "Método que adiciona um elemento no inicio da lista"
      ],
      "metadata": {
        "id": "cyyLVMZrmlnp"
      }
    },
    {
      "cell_type": "code",
      "source": [
        "def adicionaInicio(self, nd):\n",
        "  \"\"\" Cria o nodo com 1 elemento \"\"\"\n",
        "  atual = self.inicio\n",
        "\n",
        "  \"\"\" Atribui ao novo nodo o primeiro elemento da lista \"\"\"\n",
        "  nd.proximo = atual\n",
        "\n",
        "  \"\"\" Atualiza o primeiro elemento da listas como sendo o novo elemento \"\"\"\n",
        "  self.inicio = nd"
      ],
      "metadata": {
        "id": "yVGd5pz1mqSv"
      },
      "execution_count": null,
      "outputs": []
    },
    {
      "cell_type": "markdown",
      "source": [
        "Programa principal de teste"
      ],
      "metadata": {
        "id": "mCO8xChKnLf7"
      }
    },
    {
      "cell_type": "code",
      "source": [
        "lista = ListaEncadeada()\n",
        "\n",
        "nd = Nodo(\"A\")\n",
        "adicionaInicio(lista, nd)\n",
        "print(\"Lista: \", lista)\n",
        "\n",
        "nd2 = Nodo(\"B\")\n",
        "adicionaInicio(lista, nd2)\n",
        "print(\"Lista: \", lista)"
      ],
      "metadata": {
        "id": "6kJpvjC7nNzS"
      },
      "execution_count": null,
      "outputs": []
    },
    {
      "cell_type": "markdown",
      "source": [
        "##Criação da função Adiciona Fim"
      ],
      "metadata": {
        "id": "Dc4NwVaEn3Mo"
      }
    },
    {
      "cell_type": "code",
      "source": [
        "def adicionaFim(self, item):\n",
        "  \"\"\" Verifica se a lista não está vazia para percorrrer, pois, se estiver, irá adicionar no inicio \"\"\"\n",
        "  if self.inicio:\n",
        "    aux = self.inicio\n",
        "    \"\"\" Percorrre a Lista até o ultimo elemento \"\"\"\n",
        "    while (aux.proximo):\n",
        "      aux = aux.proximo\n",
        "     \"\"\" Quando sair do laço é porque chegou no último elemento; logo, atualiza o último elemento a receber como próximo o novo elemento \"\"\"\n",
        "    aux.proximo = item\n",
        "  else:\n",
        "    self.inicio = item"
      ],
      "metadata": {
        "id": "_MrUeOg1n9cA"
      },
      "execution_count": null,
      "outputs": []
    },
    {
      "cell_type": "markdown",
      "source": [
        "Programa principal de teste"
      ],
      "metadata": {
        "id": "8stFExjnpcew"
      }
    },
    {
      "cell_type": "code",
      "source": [
        "lista = ListaEncadeada()\n",
        "\n",
        "nd = Nodo(\"A\")\n",
        "adicionaFim(lista, nd)\n",
        "print(\"Lista: \", lista)\n",
        "\n",
        "nd2 = Nodo(\"B\")\n",
        "adicionaFim(lista, nd2)\n",
        "print(\"Lista: \", lista)\n",
        "\n",
        "nd3 = Nodo(\"C\")\n",
        "adicionaFim(lista, nd3)\n",
        "print(\"Lista: \", lista)"
      ],
      "metadata": {
        "id": "72aM_zuOpepP"
      },
      "execution_count": null,
      "outputs": []
    },
    {
      "cell_type": "markdown",
      "source": [
        "##Criação de função Adiciona Posição"
      ],
      "metadata": {
        "id": "HZzB1ACxpy7f"
      }
    },
    {
      "cell_type": "code",
      "source": [
        "def addPos(self, item, pos):\n",
        "  atual = self.inicio\n",
        "  pos_atual = 0\n",
        "  \"\"\" Percorre até o final da lista \"\"\"\n",
        "  while atual.proximo != None:\n",
        "    \"\"\" Verifica se a posição atual é anterior a posição desejada \"\"\"\n",
        "    if pos_atual == (pos-1):\n",
        "      \"\"\" Realiza a troca dos ponteiros e insere o novo elemento \"\"\"\n",
        "      pointer = atual\n",
        "      item.proximo = pointer.proximo\n",
        "      pointer.proximo - item\n",
        "    else:\n",
        "      atual = atual.proximo\n",
        "    \n",
        "    pos_atual = pos_atual + 1"
      ],
      "metadata": {
        "id": "GWYt-TCMp34t"
      },
      "execution_count": null,
      "outputs": []
    },
    {
      "cell_type": "markdown",
      "source": [
        "Programa principal de teste"
      ],
      "metadata": {
        "id": "uaAxqTwkqh8H"
      }
    },
    {
      "cell_type": "code",
      "source": [
        "lista = ListaEncadeada()\n",
        "\n",
        "nd = Nodo(\"A\")\n",
        "adicionaInicio(lista, nd)\n",
        "print(\"Lista: \", lista)\n",
        "\n",
        "nd2 = Nodo(\"B\")\n",
        "adicionaInicio(lista, nd2)\n",
        "print(\"Lista: \", lista)\n",
        "\n",
        "nd3 = Nodo(\"C\")\n",
        "addPos(lista, nd3, 1)\n",
        "print(\"Lista: \", lista)"
      ],
      "metadata": {
        "id": "Ion-QcvRqm5T"
      },
      "execution_count": null,
      "outputs": []
    },
    {
      "cell_type": "markdown",
      "source": [
        "##Criação da função Remove Pos"
      ],
      "metadata": {
        "id": "5w09AP8urJvP"
      }
    },
    {
      "cell_type": "code",
      "source": [
        "def removePos(self, pos):\n",
        "  atual = self.inicio\n",
        "  pos_atual = 0\n",
        "  \"\"\" Verifica se a posição a ser removida é a primeira; se positivo, atualiza o elemento de inicio da lista \"\"\"\n",
        "  if pos_atual == pos:\n",
        "    self.inicio = atual.proximo\n",
        "  \"\"\" Se a posição a ser removida não é a primeira, percorre a lista até achar a posição anterior á desejada para a troca dos ponteiros \"\"\"\n",
        "  else:\n",
        "    while atual.proximo != None:\n",
        "      if pos_atual == (pos-1):\n",
        "        next = atual.proximo\n",
        "        atual.proximo = next.proximo\n",
        "      else:\n",
        "        atual = atual.proximo\n",
        "      \n",
        "      pos_atual = pos_atual + 1\n"
      ],
      "metadata": {
        "id": "11xvJPTArPiJ"
      },
      "execution_count": null,
      "outputs": []
    },
    {
      "cell_type": "markdown",
      "source": [
        "Programa principal de teste"
      ],
      "metadata": {
        "id": "67ybhOissIDP"
      }
    },
    {
      "cell_type": "code",
      "source": [
        "lista = ListaEncadeada()\n",
        "\n",
        "nd = Nodo(\"A\")\n",
        "adicionaFim(lista, nd)\n",
        "print(\"Lista: \", lista)\n",
        "\n",
        "nd2 = Nodo(\"B\")\n",
        "adicionaFim(lista, nd2)\n",
        "print(\"Lista: \", lista)\n",
        "\n",
        "nd3 = Nodo(\"C\")\n",
        "adicionaFim(lista, nd3)\n",
        "print(\"Lista: \", lista)\n",
        "\n",
        "removePos(lista, 2)\n",
        "print(\"Lista: \", lista)\n",
        "\n",
        "removePos(lista, 0)\n",
        "print(\"Lista: \", lista)"
      ],
      "metadata": {
        "id": "IUN2jHhpsJ-S"
      },
      "execution_count": null,
      "outputs": []
    },
    {
      "cell_type": "markdown",
      "source": [
        "##Criação da função Remove Inicio"
      ],
      "metadata": {
        "id": "Ms10hLL0ssXn"
      }
    },
    {
      "cell_type": "code",
      "source": [
        "def removeInicio(self):\n",
        "  \"\"\" Realiza a atribuição do inicio da lista para um elemento Nodo \"\"\"\n",
        "  atual = self.inicio\n",
        "  \"\"\" Informa para a lista que o seu primeiro elemento é o elemento posterior ao elemento atribuído anteriormente \"\"\"\n",
        "  self.inicio = atual.proximo"
      ],
      "metadata": {
        "id": "KZi2aubbsz2m"
      },
      "execution_count": null,
      "outputs": []
    },
    {
      "cell_type": "markdown",
      "source": [
        "Programa principal de teste"
      ],
      "metadata": {
        "id": "OpniJ4qDswDf"
      }
    },
    {
      "cell_type": "code",
      "source": [
        "lista = ListaEncadeada()\n",
        "\n",
        "nd = Nodo(\"A\")\n",
        "adicionaFim(lista, nd)\n",
        "print(\"Lista: \", lista)\n",
        "\n",
        "nd2 = Nodo(\"B\")\n",
        "adicionaFim(lista, nd2)\n",
        "print(\"Lista: \", lista)\n",
        "\n",
        "nd3 = Nodo(\"C\")\n",
        "adicionaFim(lista, nd3)\n",
        "print(\"Lista: \", lista)\n",
        "\n",
        "removeInicio(lista)\n",
        "print(\"Lista: \", lista)\n",
        "\n",
        "removeInicio(lista)\n",
        "print(\"Lista: \", lista)\n",
        "\n",
        "removeInicio(lista)\n",
        "print(\"Lista: \", lista)"
      ],
      "metadata": {
        "id": "izLUa245tTRv"
      },
      "execution_count": null,
      "outputs": []
    },
    {
      "cell_type": "markdown",
      "source": [
        "##Criação da função Remove Fim"
      ],
      "metadata": {
        "id": "Hc-eCL0TtsMN"
      }
    },
    {
      "cell_type": "code",
      "source": [
        "def removeLast(self):\n",
        "  atual = self.inicio\n",
        "  \"\"\" Percorre toda a lista de elementos \"\"\"\n",
        "  while atual.proximo != None:\n",
        "    \"\"\" Atribui o próximo elemento a uma variável temporária \"\"\"\n",
        "    proximo = atual.proximo\n",
        "    \"\"\" Verifica se a variável temporária não possui nodo posterior; se positivo, ele é o último elemento \"\"\"\n",
        "    if proximo.proximo == None:\n",
        "      \"\"\" Atualiza o elemento anterior ao temporário com o seu próximo Nulo \"\"\"\n",
        "      atual.proximo = None\n",
        "    else:\n",
        "      atual = atual.proximo"
      ],
      "metadata": {
        "id": "Vi4H4rE5t5h-"
      },
      "execution_count": null,
      "outputs": []
    },
    {
      "cell_type": "markdown",
      "source": [
        "Programa principal de teste"
      ],
      "metadata": {
        "id": "dMV7xPlLupVG"
      }
    },
    {
      "cell_type": "code",
      "source": [
        "lista = ListaEncadeada()\n",
        "\n",
        "nd = Nodo(\"A\")\n",
        "adicionaFim(lista, nd)\n",
        "print(\"Lista: \", lista)\n",
        "\n",
        "nd2 = Nodo(\"B\")\n",
        "adicionaFim(lista, nd2)\n",
        "print(\"Lista: \", lista)\n",
        "\n",
        "nd3 = Nodo(\"C\")\n",
        "adicionaFim(lista, nd3)\n",
        "print(\"Lista: \", lista)\n",
        "\n",
        "removeLast(lista)\n",
        "print(\"Lista: \", lista)"
      ],
      "metadata": {
        "id": "8K52Ryx5urb5"
      },
      "execution_count": null,
      "outputs": []
    },
    {
      "cell_type": "markdown",
      "source": [
        "##Criação da função Ocorrência"
      ],
      "metadata": {
        "id": "cQ9Qg9apvGMH"
      }
    },
    {
      "cell_type": "code",
      "source": [
        "def ocorrencia(self, dado):\n",
        "  atual = self.inicio\n",
        "  total_ocorrencia = 0\n",
        "\n",
        "  \"\"\" Percorre toda a lista em busca do elemento \"\"\"\n",
        "  while atual != None:\n",
        "    \"\"\" Caso o elemento seja encontrado, deverá adicionar +1 no contador \"\"\"\n",
        "    if atual.conteudo == dado:\n",
        "      total_ocorrencia = total_ocorrencia + 1\n",
        "      atual = atual.proximo\n",
        "    else:\n",
        "      atual = atual.proximo\n",
        "    \n",
        "  \"\"\" Após percorrer toda a lista, retornar o total de elementos encontrados \"\"\"\n",
        "  return total_ocorrencia"
      ],
      "metadata": {
        "id": "Vs-jFAQwvIfW"
      },
      "execution_count": null,
      "outputs": []
    },
    {
      "cell_type": "markdown",
      "source": [
        "Programa principal de teste"
      ],
      "metadata": {
        "id": "oM3L5hBfv021"
      }
    },
    {
      "cell_type": "code",
      "source": [
        "lista = ListaEncadeada()\n",
        "\n",
        "nd = Nodo(\"A\")\n",
        "adicionaFim(lista, nd)\n",
        "print(\"Lista: \", lista)\n",
        "\n",
        "nd2 = Nodo(\"B\")\n",
        "adicionaFim(lista, nd2)\n",
        "print(\"Lista: \", lista)\n",
        "\n",
        "nd3 = Nodo(\"A\")\n",
        "adicionaFim(lista, nd3)\n",
        "print(\"Lista: \", lista)\n",
        "\n",
        "print(\"Ocorrências da letra A: \", ocorrencia(lista, \"A\"))"
      ],
      "metadata": {
        "id": "V-cEdJShv48w"
      },
      "execution_count": null,
      "outputs": []
    },
    {
      "cell_type": "markdown",
      "source": [
        "#Exemplo case lista encadeada"
      ],
      "metadata": {
        "id": "YvopgtH7wO5f"
      }
    },
    {
      "cell_type": "markdown",
      "source": [
        "##Criação das Classes"
      ],
      "metadata": {
        "id": "OXcbDBHSwb2m"
      }
    },
    {
      "cell_type": "markdown",
      "source": [
        "Classe Funcionario"
      ],
      "metadata": {
        "id": "nl0eqHFWwek1"
      }
    },
    {
      "cell_type": "code",
      "source": [
        "class Funcionario:\n",
        "  def __init__(self, nome = \"indefinido\", codigo = \"indefinido\", departamento = \"indefinido\"):\n",
        "    self.nome = nome\n",
        "    self.codigo = codigo\n",
        "    self.departamento = departamento\n",
        "\n",
        "  def __repr__(self):\n",
        "    return '%s -> %s -> $s' % (self.codigo, self.departamento, self.nome)"
      ],
      "metadata": {
        "id": "voVNdlKHwgnI"
      },
      "execution_count": null,
      "outputs": []
    },
    {
      "cell_type": "markdown",
      "source": [
        "Classe Nodo"
      ],
      "metadata": {
        "id": "3nhqIRbNxE9F"
      }
    },
    {
      "cell_type": "code",
      "source": [
        "class Nodo:\n",
        "  def __init__(self, dado = 0, proximo_nodo = None):\n",
        "    self.conteudo = dado\n",
        "    self.proximo = proximo_nodo\n",
        "\n",
        "  def __repr__(self):\n",
        "    return '%s -> %s' % (self.conteudo, self.proximo)"
      ],
      "metadata": {
        "id": "3jii3W-ExGWP"
      },
      "execution_count": null,
      "outputs": []
    },
    {
      "cell_type": "markdown",
      "source": [
        "Classe Lista Encadeada"
      ],
      "metadata": {
        "id": "B23BXwCixc3V"
      }
    },
    {
      "cell_type": "code",
      "source": [
        "class ListaEncadeada:\n",
        "  def __init__(self):\n",
        "    self.inicio = None\n",
        "\n",
        "  def __repr__(self):\n",
        "    return \"[\" + str(self.inicio) + \"]\"\n",
        "\n",
        "  def ListaVazia(self):\n",
        "    if self.inicio == None:\n",
        "      return True\n",
        "    else:\n",
        "      return False\n",
        "\n",
        "  \"\"\" Método de impressão percorre toda a lista até o final, realizando a impressão de cada Nodo do tipo funcionário\n",
        "      Para facilitar a compreensão, foi utilizada uma variável cont para informar a posição do usuário na lista \"\"\"\n",
        "  def ImprimeLista(self):\n",
        "    atual = self.inicio\n",
        "    cont = 0\n",
        "\n",
        "    print(\"Inicio da Lista\")\n",
        "    if self.inicio == None:\n",
        "      print(\"Lista Vazia\")\n",
        "    else:\n",
        "      while atual != None:\n",
        "        print(\"Posição: \", cont, atual)\n",
        "        cont = cont + 1\n",
        "        atual = atual.proximo\n",
        "    print(\"Final da Lista\")\n",
        "\n",
        "\n",
        "  \"\"\" Métodos reutilizados a partir da função anterior que conta o número de elementos de uma lista, no qual somente\n",
        "      foi renomeadad de tamanhoLista para Numero_funcionarios \"\"\"\n",
        "  def Numero_funcionarios(self):\n",
        "    atual = self.inicio\n",
        "    tamanho = 0\n",
        "\n",
        "    if self.inicio == None:\n",
        "      return 0\n",
        "\n",
        "    while atual != None:\n",
        "      tamanho = tamanho + 1\n",
        "      atual = atual.proximo\n",
        "\n",
        "    return tamanho\n",
        "\n",
        "\n",
        "  \"\"\" Métodos reutilizados a partir da função Adiciona_Fim sem modificações, o nome foi atualizado de\n",
        "      Adiciona_Fim para NovoFuncionario \"\"\"\n",
        "  def NovoFuncionario(self, nd):\n",
        "    #Cria o nodo com o 1 elemento da lista\n",
        "    atual = self.inicio\n",
        "    \n",
        "    #Atribui ao novo nodo o primeiro elemento da lista\n",
        "    nd.proximo = atual\n",
        "\n",
        "    #Atualiza o primeiro elemento da lista como sendo o novo elemento\n",
        "    self.inicio = nd\n",
        "\n",
        "  \"\"\" Método adaptado a partir da função Remove_Pos, substituindo a posição a ser removida pelo\n",
        "      conteúdo do objeto \"\"\"\n",
        "  def RemoveFuncionario(self, func):\n",
        "    atual = self.inicio\n",
        "    pos_atual = 0\n",
        "\n",
        "    #Verifica se a posição a ser removida é a primeira; se positiva, atualiza o elemento de inicio da lista\n",
        "    if atual == func:\n",
        "      self.inicio = atual.proximo\n",
        "\n",
        "    #Se a posição a ser removida não é a primeira, percorre a lista até achar a posição anterior á desejada para a troca dos ponteiros\n",
        "    else:\n",
        "      while atual.proximo != None:\n",
        "        next = atual.proximo\n",
        "        if next == func:\n",
        "          atual.proximo = next.proximo\n",
        "        else:\n",
        "          atual = atual.proximo"
      ],
      "metadata": {
        "id": "bRol5nXAxhDt"
      },
      "execution_count": null,
      "outputs": []
    },
    {
      "cell_type": "markdown",
      "source": [
        "Programa principal de teste"
      ],
      "metadata": {
        "id": "5LItPMpz1Ez8"
      }
    },
    {
      "cell_type": "markdown",
      "source": [
        "Declaração da lista vazia"
      ],
      "metadata": {
        "id": "JnBH28351JRM"
      }
    },
    {
      "cell_type": "code",
      "source": [
        "lista = ListaEncadeada()"
      ],
      "metadata": {
        "id": "9-AGmcET1MWh"
      },
      "execution_count": null,
      "outputs": []
    },
    {
      "cell_type": "markdown",
      "source": [
        "Criação de nodos do tipo funcionário."
      ],
      "metadata": {
        "id": "1fh_wJ711Pvs"
      }
    },
    {
      "cell_type": "markdown",
      "source": [
        "Estes nodos poderiam ser oriundos de uma busca do banco ou leitura de arquivo no qual cada elemento representa um nodo do tipo funcionário"
      ],
      "metadata": {
        "id": "BDN9tmCM1f8A"
      }
    },
    {
      "cell_type": "code",
      "source": [
        "f1 = Funcionario(\"Ad01\", \"Joao\", \"eletronicos\")\n",
        "f2 = Funcionario(\"Ad02\", \"Maria\", \"eletronicos\")\n",
        "f3 = Funcionario(\"Ad03\", \"Jose\", \"eletronicos\")\n",
        "f4 = Funcionario(\"Ad04\", \"Lucas\", \"eletronicos\")\n",
        "f5 = Funcionario(\"Ad05\", \"Rodrigo\", \"eletronicos\")"
      ],
      "metadata": {
        "id": "Kyi3gXNV1kWL"
      },
      "execution_count": null,
      "outputs": []
    },
    {
      "cell_type": "markdown",
      "source": [
        "Chamada dos métodos pertencentes a Classe Lista que adiciona os funcionários"
      ],
      "metadata": {
        "id": "U6djC_p211PU"
      }
    },
    {
      "cell_type": "code",
      "source": [
        "lista.NovoFuncionario(f1)\n",
        "lista.NovoFuncionario(f2)\n",
        "lista.NovoFuncionario(f3)\n",
        "lista.NovoFuncionario(f4)\n",
        "lista.NovoFuncionario(f5)"
      ],
      "metadata": {
        "id": "t3AAgTWh18YE"
      },
      "execution_count": null,
      "outputs": []
    },
    {
      "cell_type": "markdown",
      "source": [
        "Chamada do método de impressão da lista desenvolvido"
      ],
      "metadata": {
        "id": "5Z7T8hOZ2EhG"
      }
    },
    {
      "cell_type": "code",
      "source": [
        "lista.ImprimeLista()"
      ],
      "metadata": {
        "id": "HeHquwAE2JjS"
      },
      "execution_count": null,
      "outputs": []
    },
    {
      "cell_type": "markdown",
      "source": [
        "Informa o número de funcionários"
      ],
      "metadata": {
        "id": "lgcVS1122Oqs"
      }
    },
    {
      "cell_type": "code",
      "source": [
        "print(\"Total de funcionarios na empresa: \", lista.Numero_funcionarios())"
      ],
      "metadata": {
        "id": "UynNhLVV2Rxr"
      },
      "execution_count": null,
      "outputs": []
    },
    {
      "cell_type": "markdown",
      "source": [
        "Remove no meio da lista"
      ],
      "metadata": {
        "id": "4juy4I4w2cuL"
      }
    },
    {
      "cell_type": "code",
      "source": [
        "lista.RemoveFuncionario(f3)\n",
        "lista.ImprimeLista()\n",
        "print(\"Total de funcionarios na empresa: \", lista.Numero_funcionarios())"
      ],
      "metadata": {
        "id": "IoGnAyHR2e5z"
      },
      "execution_count": null,
      "outputs": []
    },
    {
      "cell_type": "markdown",
      "source": [
        "Remove no inicio da lista"
      ],
      "metadata": {
        "id": "8txa6vT42nXc"
      }
    },
    {
      "cell_type": "code",
      "source": [
        "lista.RemoveFuncionario(f1)\n",
        "lista.ImprimeLista()\n",
        "print(\"Total de funcionarios na empresa: \", lista.Numero_funcionarios())"
      ],
      "metadata": {
        "id": "GWrMO18m2qB7"
      },
      "execution_count": null,
      "outputs": []
    },
    {
      "cell_type": "markdown",
      "source": [
        "Remove no final da lista"
      ],
      "metadata": {
        "id": "PIhFbWx82zQf"
      }
    },
    {
      "cell_type": "code",
      "source": [
        "lista.RemoveFuncionario(f5)\n",
        "lista.ImprimeLista()\n",
        "print(\"Total de funcionarios na empresa: \", lista.Numero_funcionarios())"
      ],
      "metadata": {
        "id": "qQ9dmaqe21EL"
      },
      "execution_count": null,
      "outputs": []
    }
  ]
}