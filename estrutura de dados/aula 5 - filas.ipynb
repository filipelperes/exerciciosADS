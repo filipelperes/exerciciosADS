{
  "nbformat": 4,
  "nbformat_minor": 0,
  "metadata": {
    "colab": {
      "provenance": [],
      "authorship_tag": "ABX9TyND2Y+r0EFhVzl/O+CBT2s5",
      "include_colab_link": true
    },
    "kernelspec": {
      "name": "python3",
      "display_name": "Python 3"
    },
    "language_info": {
      "name": "python"
    }
  },
  "cells": [
    {
      "cell_type": "markdown",
      "metadata": {
        "id": "view-in-github",
        "colab_type": "text"
      },
      "source": [
        "<a href=\"https://colab.research.google.com/github/filipelperes/exerciciosADS/blob/main/estrutura%20de%20dados/aula%205%20-%20filas.ipynb\" target=\"_parent\"><img src=\"https://colab.research.google.com/assets/colab-badge.svg\" alt=\"Open In Colab\"/></a>"
      ]
    },
    {
      "cell_type": "markdown",
      "source": [
        "---\n",
        "#Aula 5 - Filas\n",
        "---\n",
        "\n",
        "\n",
        "\n"
      ],
      "metadata": {
        "id": "GnkNIZZsE8bK"
      }
    },
    {
      "cell_type": "markdown",
      "source": [
        "---\n",
        "##Exemplo(s) do livro\n",
        "---"
      ],
      "metadata": {
        "id": "_S2wcBS_FBiS"
      }
    },
    {
      "cell_type": "markdown",
      "source": [
        "###Implementação de filas usando vetor"
      ],
      "metadata": {
        "id": "1MxBgnJbFDwz"
      }
    },
    {
      "cell_type": "code",
      "execution_count": null,
      "metadata": {
        "id": "9qeujg1wE7LC"
      },
      "outputs": [],
      "source": [
        "class Fila:\n",
        "  # Cria uma fila vazia\n",
        "  def __init__(self):\n",
        "    self._items = list()\n",
        "  \n",
        "  # Se a fila estiver vazia retorna True, senão retorna False\n",
        "  def isEmpty(self):\n",
        "    return len(self) == 0\n",
        "\n",
        "  # Retorna quantos elementos tem na fila\n",
        "  def __len__(self):\n",
        "    return len(self._items)\n",
        "  \n",
        "  # Insere um elemento na fila\n",
        "  def enfilera(self, item):\n",
        "    self._items.append(item)\n",
        "\n",
        "  # Remove e retorna o primeiro elemento da fila\n",
        "  def desenfileira(self):\n",
        "    assert not self.isEmpty(), \"Fila vazia!\"\n",
        "    return self._items.pop(0)"
      ]
    },
    {
      "cell_type": "markdown",
      "source": [
        "###Aplicações de uma fila"
      ],
      "metadata": {
        "id": "K6toyV1ldVxh"
      }
    },
    {
      "cell_type": "code",
      "source": [
        "f = Fila()\n",
        "\n",
        "print(list(f._items))\n",
        "print(f.isEmpty())\n",
        "\n",
        "f.enfilera(34)\n",
        "print(list(f._items))\n",
        "\n",
        "f.enfilera(26)\n",
        "print(list(f._items))\n",
        "\n",
        "f.isEmpty()\n",
        "\n",
        "f.enfilera(44)\n",
        "print(list(f._items))\n",
        "\n",
        "f.desenfilera()\n",
        "print(list(f._items))\n",
        "\n",
        "f.enfilera(55)\n",
        "print(list(f._items))\n",
        "\n",
        "print(f.__len__())\n",
        "\n",
        "f.enfilera(73)\n",
        "print(list(f._items))"
      ],
      "metadata": {
        "id": "75wucAGHdX_g"
      },
      "execution_count": null,
      "outputs": []
    },
    {
      "cell_type": "markdown",
      "source": [
        "###Implementação de filas com uma matriz circular"
      ],
      "metadata": {
        "id": "RDi7EOzfHyTF"
      }
    },
    {
      "cell_type": "code",
      "source": [
        "class FilaMatrizCircular:\n",
        "  CAPACIDADE = 10 # Limite de capacidade das filas novas\n",
        "\n",
        "  # Cria uma fila vazia, utilizando a estrutura de uma matriz circular\n",
        "  def __init__(self):\n",
        "    self._data = [None] * FilaMatrizCircular.CAPACIDADE\n",
        "    self._tamanho = 0\n",
        "    self._frente = 0\n",
        "\n",
        "  # Retorna quantos elementos tem na fila\n",
        "  def __len__(self):\n",
        "    return self._tamanho\n",
        "\n",
        "  # Se a fila estiver vazia retorna True, senão retorna False.\n",
        "  def isEmpty(self):\n",
        "    return self._tamanho == 0\n",
        "\n",
        "  # Retorna o primeiro elemento da fila, sem remove-lo\n",
        "  def primeiro(self):\n",
        "    if self.isEmpty():\n",
        "      raise Empty(\"Fila vazia!\")\n",
        "    return self._data(self._frente)\n",
        "\n",
        "  # Insere um elemento na fila\n",
        "  def enfilera(self, e):\n",
        "    if self._tamanho == len(self.data):\n",
        "      self._redimensiona(2 * len(self._data)) # Duplica o tamanho da matriz\n",
        "    avail = (self._frente + self._tamanho) % len(self._data)\n",
        "    self._data[avail] = e\n",
        "    self._tamanho += 1\n",
        "\n",
        "  # Remove e retorna o primeiro elemento da fila\n",
        "  def desenfileira(self):\n",
        "    if self.isEmpty():\n",
        "      raise Empty(\"Esta vazia!\")\n",
        "    resposta = self._data[self._frente]\n",
        "    self._data[self._frente] = None # Help garbage collection\n",
        "    self._frente = (self._frente + 1) % len(self._data)\n",
        "    self._tamanho -= 1\n",
        "    return resposta\n",
        "\n",
        "  # Redimensiona a lista, cap >= len(self)\n",
        "  def _redimensiona(self, cap):\n",
        "    antiga = self._data # Mantém o registro para lista existente\n",
        "    self._data = [´None] * cap # Aloca uma lista com nova capacidade\n",
        "    anda = self._frente\n",
        "    for k in range(self._tamanho): # Com base nos elementos existentes\n",
        "      self._data[k] = antiga[anda] # Altera os indices\n",
        "      anda = (1 + anda) % len(antiga) # Usa o tamanho antigo como módulo\n",
        "      self._frente = 0 # Realinha a frente"
      ],
      "metadata": {
        "id": "wioUVT50H2UQ"
      },
      "execution_count": null,
      "outputs": []
    },
    {
      "cell_type": "markdown",
      "source": [
        "###Aplicação de uma matriz circular"
      ],
      "metadata": {
        "id": "Zm8eo8m8eXZo"
      }
    },
    {
      "cell_type": "code",
      "source": [
        "f = FilaMatrizCircular()\n",
        "\n",
        "print(f._data)\n",
        "print(f.isEmpty())\n",
        "\n",
        "f.enfilera(34)\n",
        "print(f._data)\n",
        "\n",
        "f.enfilera(26)\n",
        "print(f._data)\n",
        "\n",
        "f.isEmpty()\n",
        "\n",
        "f.enfilera(44)\n",
        "print(f._data)\n",
        "\n",
        "f.desenfilera()\n",
        "print(f._data)\n",
        "\n",
        "f.enfilera(55)\n",
        "print(f._data)\n",
        "\n",
        "print(f.__len__())\n",
        "\n",
        "f.enfilera(73)\n",
        "print(f._data)"
      ],
      "metadata": {
        "id": "6TE5nKDYebS3"
      },
      "execution_count": null,
      "outputs": []
    },
    {
      "cell_type": "markdown",
      "source": [
        "###Filas usando listas encadeadas"
      ],
      "metadata": {
        "id": "HinBRRhTS3Dc"
      }
    },
    {
      "cell_type": "code",
      "source": [
        "class FilaListaEncadeada:\n",
        "  # Cria uma fila vazia, utilizando a estrutura de uma lista encadeada\n",
        "  def __init__(self):\n",
        "    self._inicio = None\n",
        "    self._fim = None\n",
        "    self._contador = 0\n",
        "\n",
        "  # Se a fila estiver fazia retorna True, senão retorna False\n",
        "  def isEmpty(self):\n",
        "    return self._inicio is None\n",
        "  \n",
        "  # Retorna quantos elementos tem na fila\n",
        "  def __len__(self):\n",
        "    return self._contador\n",
        "\n",
        "  # Insere um elemento na fila\n",
        "  def enfilera(self, item):\n",
        "    elemento = _NoFila(item)\n",
        "    if self.isEmpty():\n",
        "      self._inicio = elemento\n",
        "    else:\n",
        "      self._fim.next = elemento\n",
        "    self._fim = elemento\n",
        "    self._contador += 1\n",
        "\n",
        "  # Remove e retorna o primeiro elemento da fila\n",
        "  def desenfilera(self):\n",
        "    assert not self.isEmpty(), \"Fila Vazia!\"\n",
        "    elemento = self._inicio\n",
        "    ifl self._inicio is self._fim:\n",
        "      self._fim = None\n",
        "\n",
        "      self._inicio = self._inicio.next\n",
        "      self._contador -= 1\n",
        "      return elemento.item"
      ],
      "metadata": {
        "id": "FoASOGVGS8Nc"
      },
      "execution_count": null,
      "outputs": []
    },
    {
      "cell_type": "markdown",
      "source": [
        "###Classe privada para armazenamento de nós da lista encadeada"
      ],
      "metadata": {
        "id": "B0gmyqhcVQWz"
      }
    },
    {
      "cell_type": "code",
      "source": [
        "class _NoFila(object):\n",
        "  def __init__(self, item):\n",
        "    self.item = item\n",
        "    self.next = None"
      ],
      "metadata": {
        "id": "rHVp_URSVTRL"
      },
      "execution_count": null,
      "outputs": []
    },
    {
      "cell_type": "markdown",
      "source": [
        "###Usando o módulo queue"
      ],
      "metadata": {
        "id": "8yPkPgphfDeo"
      }
    },
    {
      "cell_type": "code",
      "source": [
        "import queue\n",
        "\n",
        "fila = queue.Queue()\n",
        "\n",
        "fila.put(12)\n",
        "fila.put(40)\n",
        "fila.put(33)\n",
        "fila.put(15)\n",
        "fila.put(21)\n",
        "fila.put(100)\n",
        "fila.put(17)\n",
        "\n",
        "print(list(fila.queue))\n",
        "print(list(fila.queue))\n",
        "\n",
        "print(fila.qsize())\n",
        "\n",
        "print(fila.empty())\n",
        "\n",
        "print(fila.full())\n",
        "\n",
        "fila.put(5)\n",
        "print(list(fila.queue))\n",
        "\n",
        "fila.put_nowait(55)\n",
        "print(list(fila.queue))\n",
        "\n",
        "fila.get(15)\n",
        "print(list(fila.queue))\n",
        "\n",
        "fila.get_nowait()\n",
        "print(list(fila.queue))"
      ],
      "metadata": {
        "id": "nJOBuAzRfIs_"
      },
      "execution_count": null,
      "outputs": []
    }
  ]
}