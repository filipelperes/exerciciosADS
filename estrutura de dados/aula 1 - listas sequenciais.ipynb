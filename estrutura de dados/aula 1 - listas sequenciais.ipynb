{
  "nbformat": 4,
  "nbformat_minor": 0,
  "metadata": {
    "colab": {
      "provenance": [],
      "authorship_tag": "ABX9TyNBgS4UxhYFpD+4A1G2pd7n",
      "include_colab_link": true
    },
    "kernelspec": {
      "name": "python3",
      "display_name": "Python 3"
    },
    "language_info": {
      "name": "python"
    }
  },
  "cells": [
    {
      "cell_type": "markdown",
      "metadata": {
        "id": "view-in-github",
        "colab_type": "text"
      },
      "source": [
        "<a href=\"https://colab.research.google.com/github/filipelperes/exerciciosADS/blob/main/estrutura%20de%20dados/aula%201%20-%20listas%20sequenciais.ipynb\" target=\"_parent\"><img src=\"https://colab.research.google.com/assets/colab-badge.svg\" alt=\"Open In Colab\"/></a>"
      ]
    },
    {
      "cell_type": "markdown",
      "source": [
        "---\n",
        "# **Aula 1 - Listas Sequenciais Simples e Dinâmicas**\n",
        "---"
      ],
      "metadata": {
        "id": "BIh0Hlh4jLEZ"
      }
    },
    {
      "cell_type": "markdown",
      "source": [
        "---\n",
        "## Exemplo(s) Infográfico\n",
        "---\n"
      ],
      "metadata": {
        "id": "U0i1ANJijWNm"
      }
    },
    {
      "cell_type": "code",
      "source": [
        "Notas = [5, 7, 2, 9, 10]\n",
        "\n",
        "Notas[2] = 4\n",
        "\n",
        "print(Notas)"
      ],
      "metadata": {
        "id": "u39fw_WXjZ61"
      },
      "execution_count": null,
      "outputs": []
    },
    {
      "cell_type": "markdown",
      "source": [
        "---\n",
        "## Exemplo(s) do livro\n",
        "---"
      ],
      "metadata": {
        "id": "oygV_OyJXMxv"
      }
    },
    {
      "cell_type": "markdown",
      "source": [
        "### Exemplos de declaração de um vetor, atribuição de conteúdo e impressão\n",
        "\n",
        "\n",
        "**INICIO**"
      ],
      "metadata": {
        "id": "luwRLSlLYkkd"
      }
    },
    {
      "cell_type": "markdown",
      "source": [
        "Declaração de variável - Vetor"
      ],
      "metadata": {
        "id": "r18PLQaHYmLd"
      }
    },
    {
      "cell_type": "code",
      "source": [
        "funcionario = ['nome', 'idade', 'salario']\n",
        "joao = ['joao', 42, 3000]\n",
        "maria = ['Maria', 45, 4000]\n",
        "media = 0\n",
        "i = 0"
      ],
      "metadata": {
        "id": "xS1ez8OJYqgd"
      },
      "execution_count": 2,
      "outputs": []
    },
    {
      "cell_type": "markdown",
      "source": [
        "Impressão de conteúdo em posição especifica"
      ],
      "metadata": {
        "id": "5eqBT1tAY6_1"
      }
    },
    {
      "cell_type": "code",
      "source": [
        "print('alunos', joao[0], 'e', maria[0])\n",
        "print('Idade', joao[1], 'e', maria[1])\n",
        "print('Renda', joao[2], 'e', maria[2])"
      ],
      "metadata": {
        "id": "Yel28ccpY-Id"
      },
      "execution_count": null,
      "outputs": []
    },
    {
      "cell_type": "markdown",
      "source": [
        "Impressão do vetor completo"
      ],
      "metadata": {
        "id": "BMFhcg9EZvOm"
      }
    },
    {
      "cell_type": "code",
      "source": [
        "print(funcionario)"
      ],
      "metadata": {
        "id": "5_DH7OhZZy4n"
      },
      "execution_count": null,
      "outputs": []
    },
    {
      "cell_type": "markdown",
      "source": [
        "Atribuição de conteúdo em posição especifica do vetor"
      ],
      "metadata": {
        "id": "pEHqZNkkZ2ZF"
      }
    },
    {
      "cell_type": "code",
      "source": [
        "funcionario[0] = 'Lucas'\n",
        "funcionario[1] = 18\n",
        "funcionario[2] = 5000"
      ],
      "metadata": {
        "id": "cewpUu8AZ_Jl"
      },
      "execution_count": 5,
      "outputs": []
    },
    {
      "cell_type": "markdown",
      "source": [
        "Calculo da media de salarios"
      ],
      "metadata": {
        "id": "mjD8r6EFaSQH"
      }
    },
    {
      "cell_type": "code",
      "source": [
        "media = (funcionario[2] + joao[2] + maria[2])/3"
      ],
      "metadata": {
        "id": "doAp4uVhaWzs"
      },
      "execution_count": 6,
      "outputs": []
    },
    {
      "cell_type": "markdown",
      "source": [
        "Impressão da media de salários"
      ],
      "metadata": {
        "id": "nkbJ0hFnahkF"
      }
    },
    {
      "cell_type": "code",
      "source": [
        "print('A media dos salários é de: ', media)"
      ],
      "metadata": {
        "id": "IZDmT7bqameQ"
      },
      "execution_count": null,
      "outputs": []
    },
    {
      "cell_type": "markdown",
      "source": [
        "###FIM"
      ],
      "metadata": {
        "id": "2-yDR6_KauEF"
      }
    },
    {
      "cell_type": "markdown",
      "source": [
        "### Exemplos de criação e manipulação de uma matriz \n",
        "\n",
        "\n",
        "**INICIO**"
      ],
      "metadata": {
        "id": "bNKYy5vKehWT"
      }
    },
    {
      "cell_type": "markdown",
      "source": [
        "Declaração de uma Matriz"
      ],
      "metadata": {
        "id": "YaY64DDLepPD"
      }
    },
    {
      "cell_type": "code",
      "source": [
        "matriz = [\n",
        "    ['A', 'B', 'C', 'D'],\n",
        "    ['E', 'F', 'G', 'H'],\n",
        "    ['I', 'J', 'K', 'L']\n",
        "]"
      ],
      "metadata": {
        "id": "oxJ0Hky4eyB8"
      },
      "execution_count": 8,
      "outputs": []
    },
    {
      "cell_type": "markdown",
      "source": [
        "Impressão de todo o vetor"
      ],
      "metadata": {
        "id": "Q38TC69te_LD"
      }
    },
    {
      "cell_type": "code",
      "source": [
        "print(\"Matriz =\", matriz)"
      ],
      "metadata": {
        "id": "Tf-FbzRHfCTT"
      },
      "execution_count": null,
      "outputs": []
    },
    {
      "cell_type": "markdown",
      "source": [
        "Impressão de cada vetor pertencente a matriz"
      ],
      "metadata": {
        "id": "vlIo2INQfLr8"
      }
    },
    {
      "cell_type": "code",
      "source": [
        "print('vetor[0] = ', matriz[0])\n",
        "print('vetor[1] = ', matriz[1])\n",
        "print('vetor[2] = ', matriz[2])"
      ],
      "metadata": {
        "id": "0AyrENvCfP98"
      },
      "execution_count": null,
      "outputs": []
    },
    {
      "cell_type": "markdown",
      "source": [
        "Impressão de posições especificas de uma matriz"
      ],
      "metadata": {
        "id": "Jsl6jm7Rfj5D"
      }
    },
    {
      "cell_type": "code",
      "source": [
        "print(\"posicao[1][2] = \", matriz[1][2])\n",
        "print(\"posicao[0][-1] = \", matriz[0][-1])"
      ],
      "metadata": {
        "id": "Ijq9ID46fodb"
      },
      "execution_count": null,
      "outputs": []
    },
    {
      "cell_type": "markdown",
      "source": [
        "###FIM"
      ],
      "metadata": {
        "id": "MN5JxWDCgEz7"
      }
    },
    {
      "cell_type": "markdown",
      "source": [
        "### Exemplos de utilização da biblioteca de lista\n",
        "\n",
        "**INICIO**"
      ],
      "metadata": {
        "id": "mC_insiTgSFT"
      }
    },
    {
      "cell_type": "markdown",
      "source": [
        "Uma nova lista"
      ],
      "metadata": {
        "id": "UvHIHEURgW8T"
      }
    },
    {
      "cell_type": "code",
      "source": [
        "generos = ['policial', 'indefinido', 'terror', 'suspense', 'amor']"
      ],
      "metadata": {
        "id": "QgstIAEGgZWS"
      },
      "execution_count": 12,
      "outputs": []
    },
    {
      "cell_type": "markdown",
      "source": [
        "Varrendo a lista"
      ],
      "metadata": {
        "id": "KB0DTq49gh2q"
      }
    },
    {
      "cell_type": "code",
      "source": [
        "for prog in generos:\n",
        "  print(prog)"
      ],
      "metadata": {
        "id": "m1_cSe4Dgjz9"
      },
      "execution_count": null,
      "outputs": []
    },
    {
      "cell_type": "markdown",
      "source": [
        "Trocando o ultimo elemento"
      ],
      "metadata": {
        "id": "hy81u8Hjgp7C"
      }
    },
    {
      "cell_type": "code",
      "source": [
        "generos[-1] = 'romantico'"
      ],
      "metadata": {
        "id": "HVho8kNFgrmi"
      },
      "execution_count": 14,
      "outputs": []
    },
    {
      "cell_type": "markdown",
      "source": [
        "Incluindo"
      ],
      "metadata": {
        "id": "-BFYx57ngwai"
      }
    },
    {
      "cell_type": "code",
      "source": [
        "generos.append('drama')"
      ],
      "metadata": {
        "id": "xKhZL3fFgzMS"
      },
      "execution_count": 15,
      "outputs": []
    },
    {
      "cell_type": "markdown",
      "source": [
        "Removendo"
      ],
      "metadata": {
        "id": "XM5MsAc1hAFq"
      }
    },
    {
      "cell_type": "code",
      "source": [
        "generos.remove('indefinido')"
      ],
      "metadata": {
        "id": "BqJ11hmQhBmt"
      },
      "execution_count": 16,
      "outputs": []
    },
    {
      "cell_type": "markdown",
      "source": [
        "Imprime numerado"
      ],
      "metadata": {
        "id": "TomrxtamhF-D"
      }
    },
    {
      "cell_type": "code",
      "source": [
        "for i, prog in enumerate(generos):\n",
        "  print(i + 1, '=>', prog)\n",
        "\n",
        "print(generos)"
      ],
      "metadata": {
        "id": "0azXc4cIhH7D"
      },
      "execution_count": null,
      "outputs": []
    },
    {
      "cell_type": "markdown",
      "source": [
        "###FIM"
      ],
      "metadata": {
        "id": "oz1Q81LJhcQh"
      }
    }
  ]
}