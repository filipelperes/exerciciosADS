{
  "nbformat": 4,
  "nbformat_minor": 0,
  "metadata": {
    "colab": {
      "provenance": [],
      "authorship_tag": "ABX9TyOkoBOzZywJVPg6bEZlRKez",
      "include_colab_link": true
    },
    "kernelspec": {
      "name": "python3",
      "display_name": "Python 3"
    },
    "language_info": {
      "name": "python"
    }
  },
  "cells": [
    {
      "cell_type": "markdown",
      "metadata": {
        "id": "view-in-github",
        "colab_type": "text"
      },
      "source": [
        "<a href=\"https://colab.research.google.com/github/filipelperes/exerciciosADS/blob/main/estrutura%20de%20dados/aula%202%20-%20Listas%20encadeadas%20simples.ipynb\" target=\"_parent\"><img src=\"https://colab.research.google.com/assets/colab-badge.svg\" alt=\"Open In Colab\"/></a>"
      ]
    },
    {
      "cell_type": "markdown",
      "source": [
        "# Aula 2 - Listas encadeadas simples"
      ],
      "metadata": {
        "id": "m3VFeMUKXf2Y"
      }
    },
    {
      "cell_type": "markdown",
      "source": [
        "## Info gráfico exemplo"
      ],
      "metadata": {
        "id": "a2DfIS1Dnw7C"
      }
    },
    {
      "cell_type": "markdown",
      "source": [
        "### Criação da classe NODO"
      ],
      "metadata": {
        "id": "tTUXkT18X0Ex"
      }
    },
    {
      "cell_type": "code",
      "source": [
        "class NodoLista:\n",
        "  \"\"\" Esta classe representa um nodo \"\"\"\n",
        "  def __init__(self, dado = 0, proximo_nodo = None):\n",
        "    self.dado = dado\n",
        "    self.proximo = proximo_nodo"
      ],
      "metadata": {
        "id": "ro-9cY2oX6CQ"
      },
      "execution_count": null,
      "outputs": []
    },
    {
      "cell_type": "markdown",
      "source": [
        "### Criação da classe LISTA"
      ],
      "metadata": {
        "id": "Cjfk3HZeYm8X"
      }
    },
    {
      "cell_type": "markdown",
      "source": [
        "cabeca = apontador para o inicio da lista"
      ],
      "metadata": {
        "id": "kST8zjlWZTMP"
      }
    },
    {
      "cell_type": "code",
      "source": [
        "class ListaEncadeada:\n",
        "  \"\"\" Esta classe representa uma lista encadeada \"\"\"\n",
        "  def __init__(self):\n",
        "    self.cabeca = None\n",
        "\n",
        "  def __repr__(self):\n",
        "    return \"[\" + str(self.cabeca) + \"]\"\n",
        "\n",
        "  \"\"\" função para inserção do primeiro elemento da lista \"\"\"  \n",
        "  def insere_inicio(lista, novo_dado):\n",
        "    # 1) Cria um novo nodo com o dado a ser armazenado\n",
        "    novo_nodo = NodoLista(novo_dado)\n",
        "\n",
        "    # 2) Faz com que o novo nodo seja a cabeça da lista\n",
        "    novo_nodo.proximo = lista.cabeca\n",
        "\n",
        "    # 3) Faz com que a cabeça da lista referencie o novo nodo\n",
        "    lista.cabeca = novo_nodo"
      ],
      "metadata": {
        "id": "twg1rOJbYvTo"
      },
      "execution_count": null,
      "outputs": []
    },
    {
      "cell_type": "markdown",
      "source": [
        "### Teste das classes envolvidas"
      ],
      "metadata": {
        "id": "p2yQ7Ba1aljm"
      }
    },
    {
      "cell_type": "code",
      "source": [
        "lista = ListaEncadeada()\n",
        "  print(\"Lista vazia: \", lista)\n",
        "\n",
        "  insere_inicio(lista, 5)\n",
        "  print(\"Lista contém um único elemento: \", lista)\n",
        "\n",
        "  insere_inicio(lista, 10)\n",
        "  print(\"Inserindo um novo elemento: \", lista)"
      ],
      "metadata": {
        "id": "RDuMTwItamv3"
      },
      "execution_count": null,
      "outputs": []
    },
    {
      "cell_type": "markdown",
      "source": [
        "## Exemplo Livro"
      ],
      "metadata": {
        "id": "ml6CC5XVn2dM"
      }
    },
    {
      "cell_type": "markdown",
      "source": [
        "### Classe Nodo"
      ],
      "metadata": {
        "id": "NpFpvi8pn6Bi"
      }
    },
    {
      "cell_type": "code",
      "source": [
        "class Nodo:\n",
        "  def __init__(self, codigo = 0, proximo_nodo = None):\n",
        "    self.codigo = codigo\n",
        "    self.proximo = proximo_nodo\n",
        "\n",
        "  def __repr__(self):\n",
        "    return \"%s -> %s\" % (self.codigo, self.proximo)"
      ],
      "metadata": {
        "id": "bUBFvuBqoFtH"
      },
      "execution_count": null,
      "outputs": []
    },
    {
      "cell_type": "markdown",
      "source": [
        "### Classe Lista Encadeada"
      ],
      "metadata": {
        "id": "4dCM_4-9ohUH"
      }
    },
    {
      "cell_type": "code",
      "source": [
        "class ListaEncadeadaSimples:\n",
        "  def __init__(self):\n",
        "    self.cabeca = None\n",
        "\n",
        "  def __repr__(self):\n",
        "    return \"[\" + str(self.cabeca) + \"]\""
      ],
      "metadata": {
        "id": "QPbfYM8gokfq"
      },
      "execution_count": null,
      "outputs": []
    },
    {
      "cell_type": "markdown",
      "source": [
        "### Código principal (Main)"
      ],
      "metadata": {
        "id": "N0VZ_3NypcP4"
      }
    },
    {
      "cell_type": "code",
      "source": [
        "lista = ListaEncadeadaSimples()"
      ],
      "metadata": {
        "id": "Jb-yZbUxpfRZ"
      },
      "execution_count": null,
      "outputs": []
    },
    {
      "cell_type": "markdown",
      "source": [
        "Função que verifica a lista"
      ],
      "metadata": {
        "id": "eCTSOxddo_0L"
      }
    },
    {
      "cell_type": "code",
      "source": [
        "def verifica_vazia(lista):\n",
        "  if lista.cabeca == None:\n",
        "    print(\"True\")\n",
        "  else:\n",
        "    print(\"False\")\n",
        "\n",
        "verifica_vazia(lista)"
      ],
      "metadata": {
        "id": "HpPYOTp1pEZq"
      },
      "execution_count": null,
      "outputs": []
    },
    {
      "cell_type": "markdown",
      "source": [
        "Acessando primeiro elemento da lista"
      ],
      "metadata": {
        "id": "jKiEARrAqO1B"
      }
    },
    {
      "cell_type": "code",
      "source": [
        "primeiro = lista.cabeca\n",
        "print(primeiro)"
      ],
      "metadata": {
        "id": "nFqCCwcbqS05"
      },
      "execution_count": null,
      "outputs": []
    },
    {
      "cell_type": "markdown",
      "source": [
        "Pesquisando um elemento na lista"
      ],
      "metadata": {
        "id": "xcY744tlq2Mw"
      }
    },
    {
      "cell_type": "code",
      "source": [
        "def existe_nodo(self, item):\n",
        "  atual = self.inicio\n",
        "  status = False\n",
        "  \n",
        "  while atual != None and not status:\n",
        "    if atual.inf() == item:\n",
        "      status = True\n",
        "    else:\n",
        "      atual = atual.proxNodo()\n",
        "    return status"
      ],
      "metadata": {
        "id": "pFIplY2_q4j2"
      },
      "execution_count": null,
      "outputs": []
    },
    {
      "cell_type": "markdown",
      "source": [
        "Incluindo elemento"
      ],
      "metadata": {
        "id": "a99dgdajrlqB"
      }
    },
    {
      "cell_type": "markdown",
      "source": [
        "Método 1"
      ],
      "metadata": {
        "id": "1D5ejaFusTbB"
      }
    },
    {
      "cell_type": "code",
      "source": [
        "def inserir(self, item, pos):\n",
        "  atual = self.inicio\n",
        "  pos_atual = 0\n",
        "\n",
        "  while atual.proximo != None:\n",
        "    if pos_atual == (pos-1):\n",
        "      pointer = atual\n",
        "      node = Nodo(item)\n",
        "      node.proximo = pointer.proximo\n",
        "      pointer.proximo = node\n",
        "    \n",
        "    else:\n",
        "      atual = atual.proximo\n",
        "\n",
        "  pos_atual = pos_atual + 1"
      ],
      "metadata": {
        "id": "uv9yofHqrolA"
      },
      "execution_count": null,
      "outputs": []
    },
    {
      "cell_type": "markdown",
      "source": [
        "Método 2"
      ],
      "metadata": {
        "id": "qqgLWBpGsW8Y"
      }
    },
    {
      "cell_type": "code",
      "source": [
        "lista = [1, 2, 3, 4]\n",
        "lista.insert(2, 10)\n",
        "print(lista)"
      ],
      "metadata": {
        "id": "m2fgKn_qsaeX"
      },
      "execution_count": null,
      "outputs": []
    },
    {
      "cell_type": "markdown",
      "source": [
        "Excluindo elemento"
      ],
      "metadata": {
        "id": "Zq7gP8Wesm2Y"
      }
    },
    {
      "cell_type": "markdown",
      "source": [
        "Método 1"
      ],
      "metadata": {
        "id": "P7PgZnS3sqrp"
      }
    },
    {
      "cell_type": "code",
      "source": [
        "def remover(self, pos):\n",
        "  atual = self.inicio\n",
        "  pos_atual - 0\n",
        "\n",
        "  while atual.proximo != None:\n",
        "    if pos_atual == (pos-1):\n",
        "      next = atual.proximo\n",
        "      atual.proximo = next.proximo\n",
        "    else:\n",
        "      atual = atual.proximo\n",
        "    \n",
        "  pos_atual = pos_atual + 1"
      ],
      "metadata": {
        "id": "Z6EZ9UUpso6X"
      },
      "execution_count": null,
      "outputs": []
    },
    {
      "cell_type": "markdown",
      "source": [
        "Método 2"
      ],
      "metadata": {
        "id": "CqrW3lYctQto"
      }
    },
    {
      "cell_type": "code",
      "source": [
        "lista = [1, 2, 3, 4]\n",
        "lista.pop(2)\n",
        "print(lista)"
      ],
      "metadata": {
        "id": "N0qjSM58tR_w"
      },
      "execution_count": null,
      "outputs": []
    },
    {
      "cell_type": "markdown",
      "source": [
        "##Aplicação de listas encadeadas simples"
      ],
      "metadata": {
        "id": "3qgHokmptjP0"
      }
    },
    {
      "cell_type": "markdown",
      "source": [
        "Lista vazia"
      ],
      "metadata": {
        "id": "jeEiC2EBtq4Y"
      }
    },
    {
      "cell_type": "code",
      "source": [
        "lista = []"
      ],
      "metadata": {
        "id": "ZXD8W0XNtsXv"
      },
      "execution_count": null,
      "outputs": []
    },
    {
      "cell_type": "markdown",
      "source": [
        "Lista com 2 elementos"
      ],
      "metadata": {
        "id": "X5th8LHEtvBg"
      }
    },
    {
      "cell_type": "code",
      "source": [
        "lista = [5, 3]"
      ],
      "metadata": {
        "id": "zOUSTeYltxDA"
      },
      "execution_count": null,
      "outputs": []
    },
    {
      "cell_type": "markdown",
      "source": [
        "Contar o número de ocorrências de um valor na lista"
      ],
      "metadata": {
        "id": "B-O3FHLet0R_"
      }
    },
    {
      "cell_type": "markdown",
      "source": [
        "Informa o número de ocorrências do número 3 na Lista"
      ],
      "metadata": {
        "id": "x1ponRQat8qR"
      }
    },
    {
      "cell_type": "code",
      "source": [
        "print(lista.count(3))"
      ],
      "metadata": {
        "id": "TTGlGdstt5Kb"
      },
      "execution_count": null,
      "outputs": []
    },
    {
      "cell_type": "markdown",
      "source": [
        "Apagar uma lista"
      ],
      "metadata": {
        "id": "9b5F_j-iuEKa"
      }
    },
    {
      "cell_type": "code",
      "source": [
        "lista.clear()"
      ],
      "metadata": {
        "id": "ZPap7cyUuGYC"
      },
      "execution_count": null,
      "outputs": []
    },
    {
      "cell_type": "markdown",
      "source": [
        "Adicionar elementos em uma lista"
      ],
      "metadata": {
        "id": "Bx4-dxgwuJvP"
      }
    },
    {
      "cell_type": "markdown",
      "source": [
        "O elemento será adicionado ao final da lista"
      ],
      "metadata": {
        "id": "mKLbQ91RuNr3"
      }
    },
    {
      "cell_type": "code",
      "source": [
        "lista.append(10)"
      ],
      "metadata": {
        "id": "m87Ep21kuRKf"
      },
      "execution_count": null,
      "outputs": []
    },
    {
      "cell_type": "markdown",
      "source": [
        "O elemento será adicionado em uma posição especifica da lista"
      ],
      "metadata": {
        "id": "0OSRxfs_uWLI"
      }
    },
    {
      "cell_type": "markdown",
      "source": [
        "lista.insert(pos, elemento)"
      ],
      "metadata": {
        "id": "LMI6g_kxufeX"
      }
    },
    {
      "cell_type": "code",
      "source": [
        "lista.insert(1, 7)"
      ],
      "metadata": {
        "id": "ujcgX6gBuiqI"
      },
      "execution_count": null,
      "outputs": []
    },
    {
      "cell_type": "markdown",
      "source": [
        "Remover um elemento em uma lista"
      ],
      "metadata": {
        "id": "bRw3mib_ul8f"
      }
    },
    {
      "cell_type": "markdown",
      "source": [
        "Remova a primeira ocorrência do elemento em uma lista"
      ],
      "metadata": {
        "id": "OKfrBBl8uqJ3"
      }
    },
    {
      "cell_type": "code",
      "source": [
        "lista.remove(3)"
      ],
      "metadata": {
        "id": "a4Nc-unSuy6v"
      },
      "execution_count": null,
      "outputs": []
    },
    {
      "cell_type": "markdown",
      "source": [
        "Retornar a posição de um elemento em uma lista"
      ],
      "metadata": {
        "id": "7jvgJbP0u0nI"
      }
    },
    {
      "cell_type": "markdown",
      "source": [
        "Retorna a posição da primeira ocorrência do elemento 5 na lista"
      ],
      "metadata": {
        "id": "idNgWCsOvHFw"
      }
    },
    {
      "cell_type": "code",
      "source": [
        "lista_teste = [5, 3, 1, 4, 3, 2, 1]\n",
        "print(lista_teste.index(5))"
      ],
      "metadata": {
        "id": "Fo_MetICu8Ug"
      },
      "execution_count": null,
      "outputs": []
    },
    {
      "cell_type": "markdown",
      "source": [
        "###**Exemplo de listas encadeadas simples**"
      ],
      "metadata": {
        "id": "BKCBk-MVvX36"
      }
    },
    {
      "cell_type": "markdown",
      "source": [
        "Lista de sobremesas"
      ],
      "metadata": {
        "id": "itqCmi5_vdIX"
      }
    },
    {
      "cell_type": "code",
      "source": [
        "doces = ['pudim', 'bombom', 'chocolate']"
      ],
      "metadata": {
        "id": "aSIp4ghjvebv"
      },
      "execution_count": null,
      "outputs": []
    },
    {
      "cell_type": "markdown",
      "source": [
        "Lista de valores"
      ],
      "metadata": {
        "id": "blApJNaxvjm4"
      }
    },
    {
      "cell_type": "code",
      "source": [
        "valores = [2, 5, 1, 10, 5]"
      ],
      "metadata": {
        "id": "oirBtlhZvk9v"
      },
      "execution_count": null,
      "outputs": []
    },
    {
      "cell_type": "markdown",
      "source": [
        "Impressão das listas"
      ],
      "metadata": {
        "id": "Bd9clq9BvwLI"
      }
    },
    {
      "cell_type": "code",
      "source": [
        "print('listas originais')\n",
        "print(doces)\n",
        "print(valores)"
      ],
      "metadata": {
        "id": "owbVlYWxv0e7"
      },
      "execution_count": null,
      "outputs": []
    },
    {
      "cell_type": "markdown",
      "source": [
        "Adicionar elemento"
      ],
      "metadata": {
        "id": "zDcuePV7v54H"
      }
    },
    {
      "cell_type": "code",
      "source": [
        "doces.append('cocada')\n",
        "valores.insert(1, 50)\n",
        "print('listas com novos elementos')\n",
        "print(doces)\n",
        "print(valores)"
      ],
      "metadata": {
        "id": "ENeJHPE4v7Xv"
      },
      "execution_count": null,
      "outputs": []
    },
    {
      "cell_type": "markdown",
      "source": [
        "Remover elementos"
      ],
      "metadata": {
        "id": "GgYn789cwL_w"
      }
    },
    {
      "cell_type": "code",
      "source": [
        "doces.remove('bombom')\n",
        "valores.remove(1)\n",
        "print('listas com a remoção de 1 elemento')\n",
        "print(doces)\n",
        "print(valores)"
      ],
      "metadata": {
        "id": "q0ck_TcfwTwp"
      },
      "execution_count": null,
      "outputs": []
    }
  ]
}