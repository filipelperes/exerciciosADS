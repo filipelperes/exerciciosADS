{
  "nbformat": 4,
  "nbformat_minor": 0,
  "metadata": {
    "colab": {
      "provenance": [],
      "authorship_tag": "ABX9TyMq1OnfEvxzt1t2wMETdF19",
      "include_colab_link": true
    },
    "kernelspec": {
      "name": "python3",
      "display_name": "Python 3"
    },
    "language_info": {
      "name": "python"
    }
  },
  "cells": [
    {
      "cell_type": "markdown",
      "metadata": {
        "id": "view-in-github",
        "colab_type": "text"
      },
      "source": [
        "<a href=\"https://colab.research.google.com/github/filipelperes/exerciciosADS/blob/main/estrutura%20de%20dados/aula%202%20-%20Listas%20encadeadas%20simples.ipynb\" target=\"_parent\"><img src=\"https://colab.research.google.com/assets/colab-badge.svg\" alt=\"Open In Colab\"/></a>"
      ]
    },
    {
      "cell_type": "markdown",
      "source": [
        "---\n",
        "# **Aula 2 - Listas Encadeadas Simples**\n",
        "---"
      ],
      "metadata": {
        "id": "m3VFeMUKXf2Y"
      }
    },
    {
      "cell_type": "markdown",
      "source": [
        "---\n",
        "## Exemplo(s) Infográfico\n",
        "---"
      ],
      "metadata": {
        "id": "a2DfIS1Dnw7C"
      }
    },
    {
      "cell_type": "markdown",
      "source": [
        "### CRIAÇÃO DA CLASSE NODO"
      ],
      "metadata": {
        "id": "tTUXkT18X0Ex"
      }
    },
    {
      "cell_type": "code",
      "source": [
        "class NodoLista:\n",
        "  \"\"\" Esta classe representa um nodo \"\"\"\n",
        "  def __init__(self, dado = 0, proximo_nodo = None):\n",
        "    self.dado = dado\n",
        "    self.proximo = proximo_nodo"
      ],
      "metadata": {
        "id": "ro-9cY2oX6CQ"
      },
      "execution_count": null,
      "outputs": []
    },
    {
      "cell_type": "markdown",
      "source": [
        "### CRIAÇÃO DA CLASSE LISTA"
      ],
      "metadata": {
        "id": "Cjfk3HZeYm8X"
      }
    },
    {
      "cell_type": "code",
      "source": [
        "class ListaEncadeada:\n",
        "  \"\"\" Esta classe representa uma lista encadeada \"\"\"\n",
        "  def __init__(self):\n",
        "    self.cabeca = None # Apontador para o inicio da lista\n",
        "\n",
        "  def __repr__(self):\n",
        "    return \"[\" + str(self.cabeca) + \"]\"\n",
        "\n",
        "  \"\"\" função para inserção do primeiro elemento da lista \"\"\"  \n",
        "  def insere_inicio(lista, novo_dado):\n",
        "    # 1) Cria um novo nodo com o dado a ser armazenado\n",
        "    novo_nodo = NodoLista(novo_dado)\n",
        "\n",
        "    # 2) Faz com que o novo nodo seja a cabeça da lista\n",
        "    novo_nodo.proximo = lista.cabeca\n",
        "\n",
        "    # 3) Faz com que a cabeça da lista referencie o novo nodo\n",
        "    lista.cabeca = novo_nodo"
      ],
      "metadata": {
        "id": "twg1rOJbYvTo"
      },
      "execution_count": null,
      "outputs": []
    },
    {
      "cell_type": "markdown",
      "source": [
        "Teste das classes envolvidas"
      ],
      "metadata": {
        "id": "p2yQ7Ba1aljm"
      }
    },
    {
      "cell_type": "code",
      "source": [
        "lista = ListaEncadeada()\n",
        "print(\"Lista vazia: \", lista)\n",
        "\n",
        "lista.insere_inicio(lista, 5)\n",
        "print(\"Lista contém um único elemento: \", lista)\n",
        "\n",
        "lista.insere_inicio(lista, 10)\n",
        "print(\"Inserindo um novo elemento: \", lista)"
      ],
      "metadata": {
        "id": "RDuMTwItamv3"
      },
      "execution_count": null,
      "outputs": []
    },
    {
      "cell_type": "markdown",
      "source": [
        "---\n",
        "## Exemplo(s) do livro\n",
        "---"
      ],
      "metadata": {
        "id": "ml6CC5XVn2dM"
      }
    },
    {
      "cell_type": "markdown",
      "source": [
        "### Classe Nodo"
      ],
      "metadata": {
        "id": "NpFpvi8pn6Bi"
      }
    },
    {
      "cell_type": "code",
      "source": [
        "class Nodo:\n",
        "  def __init__(self, codigo = 0, proximo_nodo = None):\n",
        "    self.codigo = codigo\n",
        "    self.proximo = proximo_nodo\n",
        "\n",
        "  def __repr__(self):\n",
        "    return \"%s -> %s\" % (self.codigo, self.proximo)"
      ],
      "metadata": {
        "id": "bUBFvuBqoFtH"
      },
      "execution_count": null,
      "outputs": []
    },
    {
      "cell_type": "markdown",
      "source": [
        "### Classe Lista Encadeada"
      ],
      "metadata": {
        "id": "4dCM_4-9ohUH"
      }
    },
    {
      "cell_type": "code",
      "source": [
        "class ListaEncadeadaSimples:\n",
        "  def __init__(self):\n",
        "    self.cabeca = None\n",
        "\n",
        "  def __repr__(self):\n",
        "    return \"[\" + str(self.cabeca) + \"]\""
      ],
      "metadata": {
        "id": "QPbfYM8gokfq"
      },
      "execution_count": null,
      "outputs": []
    },
    {
      "cell_type": "markdown",
      "source": [
        "Função que verifica se a lista está vazia"
      ],
      "metadata": {
        "id": "eCTSOxddo_0L"
      }
    },
    {
      "cell_type": "code",
      "source": [
        "def verifica_vazia(lista):\n",
        "  if lista.cabeca == None:\n",
        "    print(\"True\")\n",
        "  else:\n",
        "    print(\"False\")"
      ],
      "metadata": {
        "id": "HpPYOTp1pEZq"
      },
      "execution_count": null,
      "outputs": []
    },
    {
      "cell_type": "markdown",
      "source": [
        "### Código principal (MAIN)"
      ],
      "metadata": {
        "id": "N0VZ_3NypcP4"
      }
    },
    {
      "cell_type": "code",
      "source": [
        "lista = ListaEncadeadaSimples()\n",
        "\n",
        "\n",
        "verifica_vazia(lista)\n",
        "\n",
        "\n",
        "primeiro = lista.cabeca\n",
        "print(primeiro)"
      ],
      "metadata": {
        "id": "Jb-yZbUxpfRZ"
      },
      "execution_count": null,
      "outputs": []
    },
    {
      "cell_type": "markdown",
      "source": [
        "Pesquisando um elemento na lista"
      ],
      "metadata": {
        "id": "xcY744tlq2Mw"
      }
    },
    {
      "cell_type": "code",
      "source": [
        "def existe_nodo(self, item):\n",
        "  atual = self.cabeca\n",
        "  status = False\n",
        "  \n",
        "  while atual != None and not status:\n",
        "    if atual.codigo == item:\n",
        "      status = True\n",
        "    else:\n",
        "      atual = atual.proximo\n",
        "    return status"
      ],
      "metadata": {
        "id": "pFIplY2_q4j2"
      },
      "execution_count": null,
      "outputs": []
    },
    {
      "cell_type": "markdown",
      "source": [
        "###**INCLUINDO ELEMENTO**\n",
        "\n",
        "Método 1"
      ],
      "metadata": {
        "id": "a99dgdajrlqB"
      }
    },
    {
      "cell_type": "code",
      "source": [
        "def inserir(self, item, pos):\n",
        "  atual = self.cabeca\n",
        "  pos_atual = 0\n",
        "\n",
        "  while atual.proximo != None:\n",
        "    if pos_atual == (pos-1):\n",
        "      pointer = atual\n",
        "      node = Nodo(item)\n",
        "      node.proximo = pointer.proximo\n",
        "      pointer.proximo = node    \n",
        "    else:\n",
        "      atual = atual.proximo\n",
        "  pos_atual += 1"
      ],
      "metadata": {
        "id": "uv9yofHqrolA"
      },
      "execution_count": null,
      "outputs": []
    },
    {
      "cell_type": "markdown",
      "source": [
        "Método 2"
      ],
      "metadata": {
        "id": "qqgLWBpGsW8Y"
      }
    },
    {
      "cell_type": "code",
      "source": [
        "lista_aux = [1, 2, 3, 4]\n",
        "lista_aux.insert(2, 10)\n",
        "print(lista)"
      ],
      "metadata": {
        "id": "m2fgKn_qsaeX"
      },
      "execution_count": null,
      "outputs": []
    },
    {
      "cell_type": "markdown",
      "source": [
        "### **EXCLUINDO ELEMENTO**\n",
        "\n",
        "Método 1"
      ],
      "metadata": {
        "id": "Zq7gP8Wesm2Y"
      }
    },
    {
      "cell_type": "code",
      "source": [
        "def remover(self, pos):\n",
        "  atual = self.cabeca\n",
        "  pos_atual = 0\n",
        "\n",
        "  while atual.proximo != None:\n",
        "    if pos_atual == (pos-1):\n",
        "      next = atual.proximo\n",
        "      atual.proximo = next.proximo\n",
        "    else:\n",
        "      atual = atual.proximo    \n",
        "  pos_atual += 1"
      ],
      "metadata": {
        "id": "Z6EZ9UUpso6X"
      },
      "execution_count": null,
      "outputs": []
    },
    {
      "cell_type": "markdown",
      "source": [
        "Método 2"
      ],
      "metadata": {
        "id": "CqrW3lYctQto"
      }
    },
    {
      "cell_type": "code",
      "source": [
        "lista_aux = [1, 2, 3, 4]\n",
        "lista_aux.pop(2)\n",
        "print(lista)"
      ],
      "metadata": {
        "id": "N0qjSM58tR_w"
      },
      "execution_count": null,
      "outputs": []
    },
    {
      "cell_type": "markdown",
      "source": [
        "### **Aplicação de listas encadeadas simples**"
      ],
      "metadata": {
        "id": "3qgHokmptjP0"
      }
    },
    {
      "cell_type": "code",
      "source": [
        "lista = [] #Lista vazia\n",
        "\n",
        "lista = [5, 3] #Lista com 2 elementos"
      ],
      "metadata": {
        "id": "qxuCGlDo0nCn"
      },
      "execution_count": null,
      "outputs": []
    },
    {
      "cell_type": "markdown",
      "source": [
        "Contar o número de ocorrências de um valor na lista"
      ],
      "metadata": {
        "id": "B-O3FHLet0R_"
      }
    },
    {
      "cell_type": "code",
      "source": [
        "print(lista.count(3))"
      ],
      "metadata": {
        "id": "TTGlGdstt5Kb"
      },
      "execution_count": null,
      "outputs": []
    },
    {
      "cell_type": "markdown",
      "source": [
        "Apagar uma lista"
      ],
      "metadata": {
        "id": "9b5F_j-iuEKa"
      }
    },
    {
      "cell_type": "code",
      "source": [
        "lista.clear()"
      ],
      "metadata": {
        "id": "ZPap7cyUuGYC"
      },
      "execution_count": null,
      "outputs": []
    },
    {
      "cell_type": "markdown",
      "source": [
        "Adicionar elementos em uma lista"
      ],
      "metadata": {
        "id": "Bx4-dxgwuJvP"
      }
    },
    {
      "cell_type": "code",
      "source": [
        "lista.append(10) #O método append adiciona o elemento no final da lista"
      ],
      "metadata": {
        "id": "m87Ep21kuRKf"
      },
      "execution_count": null,
      "outputs": []
    },
    {
      "cell_type": "markdown",
      "source": [
        "```\n",
        "lista.insert(pos, elemento)\n",
        "```\n",
        "\n",
        "\n",
        "\n"
      ],
      "metadata": {
        "id": "LMI6g_kxufeX"
      }
    },
    {
      "cell_type": "code",
      "source": [
        "lista.insert(1, 7)"
      ],
      "metadata": {
        "id": "ujcgX6gBuiqI"
      },
      "execution_count": null,
      "outputs": []
    },
    {
      "cell_type": "markdown",
      "source": [
        "Remover um elemento em uma lista"
      ],
      "metadata": {
        "id": "bRw3mib_ul8f"
      }
    },
    {
      "cell_type": "code",
      "source": [
        "lista.remove(3) #O método remove remove a primeira ocorrência do elemento na lista"
      ],
      "metadata": {
        "id": "a4Nc-unSuy6v"
      },
      "execution_count": null,
      "outputs": []
    },
    {
      "cell_type": "markdown",
      "source": [
        "Retornar a posição da primeira ocorrência de um elemento em uma lista"
      ],
      "metadata": {
        "id": "7jvgJbP0u0nI"
      }
    },
    {
      "cell_type": "code",
      "source": [
        "lista_teste = [5, 3, 1, 4, 3, 2, 1]\n",
        "print(lista_teste.index(5))"
      ],
      "metadata": {
        "id": "Fo_MetICu8Ug"
      },
      "execution_count": null,
      "outputs": []
    },
    {
      "cell_type": "markdown",
      "source": [
        "### **Exemplo de listas encadeadas simples**"
      ],
      "metadata": {
        "id": "BKCBk-MVvX36"
      }
    },
    {
      "cell_type": "markdown",
      "source": [
        "Lista de sobremesas"
      ],
      "metadata": {
        "id": "itqCmi5_vdIX"
      }
    },
    {
      "cell_type": "code",
      "source": [
        "doces = ['pudim', 'bombom', 'chocolate']"
      ],
      "metadata": {
        "id": "aSIp4ghjvebv"
      },
      "execution_count": null,
      "outputs": []
    },
    {
      "cell_type": "markdown",
      "source": [
        "Lista de valores"
      ],
      "metadata": {
        "id": "blApJNaxvjm4"
      }
    },
    {
      "cell_type": "code",
      "source": [
        "valores = [2, 5, 1, 10, 5]"
      ],
      "metadata": {
        "id": "oirBtlhZvk9v"
      },
      "execution_count": null,
      "outputs": []
    },
    {
      "cell_type": "markdown",
      "source": [
        "Impressão das listas"
      ],
      "metadata": {
        "id": "Bd9clq9BvwLI"
      }
    },
    {
      "cell_type": "code",
      "source": [
        "print('listas originais')\n",
        "print(doces)\n",
        "print(valores)"
      ],
      "metadata": {
        "id": "owbVlYWxv0e7"
      },
      "execution_count": null,
      "outputs": []
    },
    {
      "cell_type": "markdown",
      "source": [
        "Adicionar elementos"
      ],
      "metadata": {
        "id": "zDcuePV7v54H"
      }
    },
    {
      "cell_type": "code",
      "source": [
        "doces.append('cocada')\n",
        "valores.insert(1, 50)\n",
        "print('listas com novos elementos')\n",
        "print(doces)\n",
        "print(valores)"
      ],
      "metadata": {
        "id": "ENeJHPE4v7Xv"
      },
      "execution_count": null,
      "outputs": []
    },
    {
      "cell_type": "markdown",
      "source": [
        "Remover elementos"
      ],
      "metadata": {
        "id": "GgYn789cwL_w"
      }
    },
    {
      "cell_type": "code",
      "source": [
        "doces.remove('bombom')\n",
        "valores.remove(1)\n",
        "print('listas com a remoção de 1 elemento')\n",
        "print(doces)\n",
        "print(valores)"
      ],
      "metadata": {
        "id": "q0ck_TcfwTwp"
      },
      "execution_count": null,
      "outputs": []
    }
  ]
}