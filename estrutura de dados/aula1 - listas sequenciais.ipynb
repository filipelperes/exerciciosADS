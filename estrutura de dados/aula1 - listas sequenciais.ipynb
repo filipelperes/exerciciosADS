{
  "nbformat": 4,
  "nbformat_minor": 0,
  "metadata": {
    "colab": {
      "provenance": [],
      "authorship_tag": "ABX9TyO5q1672+Z78zXa3KU9kmdo",
      "include_colab_link": true
    },
    "kernelspec": {
      "name": "python3",
      "display_name": "Python 3"
    },
    "language_info": {
      "name": "python"
    }
  },
  "cells": [
    {
      "cell_type": "markdown",
      "metadata": {
        "id": "view-in-github",
        "colab_type": "text"
      },
      "source": [
        "<a href=\"https://colab.research.google.com/github/filipelperes/exerciciosADS/blob/main/estrutura%20de%20dados/aula1%20-%20%20listas%20sequencias%20-%20estaticas%20e%20dinamicas.ipynb\" target=\"_parent\"><img src=\"https://colab.research.google.com/assets/colab-badge.svg\" alt=\"Open In Colab\"/></a>"
      ]
    },
    {
      "cell_type": "markdown",
      "source": [
        "# **Exemplos de listas - estática e dinâmica**"
      ],
      "metadata": {
        "id": "oygV_OyJXMxv"
      }
    },
    {
      "cell_type": "markdown",
      "source": [
        "### Inicio"
      ],
      "metadata": {
        "id": "luwRLSlLYkkd"
      }
    },
    {
      "cell_type": "markdown",
      "source": [
        "Declaração de variável - Vetor"
      ],
      "metadata": {
        "id": "r18PLQaHYmLd"
      }
    },
    {
      "cell_type": "code",
      "source": [
        "funcionario = ['nome', 'idade', 'salario']\n",
        "joao = ['joao', 42, 3000]\n",
        "maria = ['Maria', 45, 4000]\n",
        "media = 0\n",
        "i = 0"
      ],
      "metadata": {
        "id": "xS1ez8OJYqgd"
      },
      "execution_count": null,
      "outputs": []
    },
    {
      "cell_type": "markdown",
      "source": [
        "Impressão de conteúdo em posição especifica"
      ],
      "metadata": {
        "id": "5eqBT1tAY6_1"
      }
    },
    {
      "cell_type": "code",
      "source": [
        "print('alunos', joao[0], 'e', maria[0])\n",
        "print('Idade', joao[1], 'e', maria[1])\n",
        "print('Renda', joao[2], 'e', maria[2])"
      ],
      "metadata": {
        "id": "Yel28ccpY-Id"
      },
      "execution_count": null,
      "outputs": []
    },
    {
      "cell_type": "markdown",
      "source": [
        "Impressão do vetor completo"
      ],
      "metadata": {
        "id": "BMFhcg9EZvOm"
      }
    },
    {
      "cell_type": "code",
      "source": [
        "print(funcionario)"
      ],
      "metadata": {
        "id": "5_DH7OhZZy4n"
      },
      "execution_count": null,
      "outputs": []
    },
    {
      "cell_type": "markdown",
      "source": [
        "Atribuição de conteúdo em posição especifica do vetor"
      ],
      "metadata": {
        "id": "pEHqZNkkZ2ZF"
      }
    },
    {
      "cell_type": "code",
      "source": [
        "funcionario[0] = 'Lucas'\n",
        "funcionario[1] = 18\n",
        "funcionario[2] = 5000"
      ],
      "metadata": {
        "id": "cewpUu8AZ_Jl"
      },
      "execution_count": null,
      "outputs": []
    },
    {
      "cell_type": "markdown",
      "source": [
        "Calculo da media de salarios"
      ],
      "metadata": {
        "id": "mjD8r6EFaSQH"
      }
    },
    {
      "cell_type": "code",
      "source": [
        "media = (funcionario[2] + joao[2] + maria[2])/3"
      ],
      "metadata": {
        "id": "doAp4uVhaWzs"
      },
      "execution_count": null,
      "outputs": []
    },
    {
      "cell_type": "markdown",
      "source": [
        "Impressão da media de salários"
      ],
      "metadata": {
        "id": "nkbJ0hFnahkF"
      }
    },
    {
      "cell_type": "code",
      "source": [
        "print('A media dos salários é de: ', media)"
      ],
      "metadata": {
        "id": "IZDmT7bqameQ"
      },
      "execution_count": null,
      "outputs": []
    },
    {
      "cell_type": "markdown",
      "source": [
        "FIM"
      ],
      "metadata": {
        "id": "2-yDR6_KauEF"
      }
    }
  ]
}
