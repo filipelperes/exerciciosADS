{
  "nbformat": 4,
  "nbformat_minor": 0,
  "metadata": {
    "colab": {
      "provenance": [],
      "authorship_tag": "ABX9TyMAzR0U0IYsz70P4MBFoOxF",
      "include_colab_link": true
    },
    "kernelspec": {
      "name": "python3",
      "display_name": "Python 3"
    },
    "language_info": {
      "name": "python"
    }
  },
  "cells": [
    {
      "cell_type": "markdown",
      "metadata": {
        "id": "view-in-github",
        "colab_type": "text"
      },
      "source": [
        "<a href=\"https://colab.research.google.com/github/filipelperes/exerciciosADS/blob/main/estrutura%20de%20dados/aula%204%20-%20pilhas.ipynb\" target=\"_parent\"><img src=\"https://colab.research.google.com/assets/colab-badge.svg\" alt=\"Open In Colab\"/></a>"
      ]
    },
    {
      "cell_type": "markdown",
      "source": [
        "---\n",
        "#**Aula 4** - Pilhas\n",
        "---"
      ],
      "metadata": {
        "id": "3d1M8X4QrRYb"
      }
    },
    {
      "cell_type": "markdown",
      "source": [
        "---\n",
        "##Exemplo(s) do livro\n",
        "---"
      ],
      "metadata": {
        "id": "wJM7arZ09-OE"
      }
    },
    {
      "cell_type": "markdown",
      "source": [
        "nome_pilha=[elemento, elemento, ..., elemento] - cria uma pilha\n",
        "\n",
        "nome_pilha.append(elemento) - inclui o elemento inidicado na pilha\n",
        "\n",
        "nome_pilha.pop() - remove um elemento do **topo** da pilha"
      ],
      "metadata": {
        "id": "OGRCpZNurXkx"
      }
    },
    {
      "cell_type": "code",
      "source": [
        "myStack = []\n",
        "\n",
        "myStack.append(1)\n",
        "myStack.append(2)\n",
        "myStack.append(3)\n",
        "\n",
        "print(myStack)\n",
        "\n",
        "print(myStack.pop())\n",
        "print(myStack.pop())\n",
        "print(myStack.pop())"
      ],
      "metadata": {
        "id": "3DsN0a3Msir1"
      },
      "execution_count": null,
      "outputs": []
    },
    {
      "cell_type": "markdown",
      "source": [
        "Para demonstrar a implementação de pilha utilizando a coleção .deque"
      ],
      "metadata": {
        "id": "RV4Z3TDRtrhp"
      }
    },
    {
      "cell_type": "code",
      "source": [
        "from collections import deque\n",
        "stack = deque()"
      ],
      "metadata": {
        "id": "L75_MgpFs59R"
      },
      "execution_count": null,
      "outputs": []
    },
    {
      "cell_type": "markdown",
      "source": [
        "###.append() - para inserir elementos na pilha"
      ],
      "metadata": {
        "id": "H_rPyJPHt6rv"
      }
    },
    {
      "cell_type": "code",
      "source": [
        "stack.append('a')\n",
        "stack.append('b')\n",
        "stack.append('c')\n",
        "\n",
        "print(\"Pilha inicial: \")\n",
        "print(stack)"
      ],
      "metadata": {
        "id": "V1zg4S4mt-m7"
      },
      "execution_count": null,
      "outputs": []
    },
    {
      "cell_type": "markdown",
      "source": [
        "###.pop() para remover elementos da pilha na ordem **LIFO (Last In First Out)**"
      ],
      "metadata": {
        "id": "XvlYlN2guNDP"
      }
    },
    {
      "cell_type": "code",
      "source": [
        "print('\\nElementos removidos da pilha: ')\n",
        "print(stack.pop())\n",
        "print(stack.pop())\n",
        "print(stack.pop())\n",
        "\n",
        "print('\\nPilha após retirada dos elementos: ')\n",
        "print(stack)"
      ],
      "metadata": {
        "id": "mjEVtDkXuVx_"
      },
      "execution_count": null,
      "outputs": []
    },
    {
      "cell_type": "markdown",
      "source": [
        "O uso de print (stack.pop()) causará o **erro IndexError** devido a pilha estar vazia agora."
      ],
      "metadata": {
        "id": "06LS7Lzquw73"
      }
    },
    {
      "cell_type": "markdown",
      "source": [
        "###**Exemplo de conversão de notação infix em prefixo**"
      ],
      "metadata": {
        "id": "qu_GTyjLwsxt"
      }
    },
    {
      "cell_type": "markdown",
      "source": [
        "Classe para converter a expressão"
      ],
      "metadata": {
        "id": "5qKod80kw1_O"
      }
    },
    {
      "cell_type": "code",
      "source": [
        "class Conversion:\n",
        "  # Constructor para inicializar as variáveis de classe\n",
        "  def __init__(self, capacity):\n",
        "    self.top = -1\n",
        "    self.capacity = capacity\n",
        "    # Essa matriz é usada como uma pilha\n",
        "    self.array = []\n",
        "    # Configuração de precedência\n",
        "    self.output = []\n",
        "    self.precedence = [\n",
        "        '+': 1,\n",
        "        '-': 1,\n",
        "        '*': 2,\n",
        "        '/': 2,\n",
        "        '^': 3\n",
        "    ]\n",
        "  \n",
        "  # Verifica se a pilha está vazia\n",
        "  def isEmpty(self):\n",
        "    return True if self.top == -1 else False\n",
        "\n",
        "  # Retorna o valor do topo da pilha\n",
        "  def peek(self):\n",
        "    return self.array[-1]\n",
        "\n",
        "  # Remove o elemento da pilha\n",
        "  def pop(self):\n",
        "    if not self.isEmpty():\n",
        "      self.top -= 1\n",
        "      return self.array.pop()\n",
        "    else:\n",
        "      return \"$\"\n",
        "\n",
        "  # Insere o elemento na pilha\n",
        "  def push(self, op):\n",
        "    self.top += 1\n",
        "    self.array.append(op)\n",
        "\n",
        "  # Uma função utilizada para verificar se o caractere dado é operando\n",
        "  def isOperand(self, ch):\n",
        "    return ch.isalpha()\n",
        "  \n",
        "  # Verifique se a precedência do operador é estritamente menor que o topo da pilha ou não\n",
        "  def notGreater(self, i):\n",
        "    try:\n",
        "      a = self.precedence[i]\n",
        "      b = self.precedence[self.peek()]\n",
        "      return True if a <= b else False\n",
        "    except KeyError:\n",
        "      return False\n",
        "\n",
        "  # A principal função que converte determinada expressão inflix em expressão postfix\n",
        "  def infixToPostfix(self, exp):\n",
        "    # Iterar sobre a expressão para conversão\n",
        "    for i in exp:\n",
        "      # Se o caractere for um operador, adiciona a saída\n",
        "      if self.isOperand(i):\n",
        "        self.output.append(i)]\n",
        "      \n",
        "      # Se o caractere for um '(', insere na pilha\n",
        "      elif i == '(':\n",
        "        self.push(i)\n",
        "\n",
        "      # Se o caractere digitalizado for um ')', retira e saída da pilha até que '(' seja encontrado\n",
        "      elif i == ')':\n",
        "        while ((not self.isEmpty()) and self.peek() != '('):\n",
        "          a = self.pop()\n",
        "          self.output.append(a)\n",
        "        if (not self.isEmpty() and self.peek() != '('):\n",
        "          return -1\n",
        "        else:\n",
        "          self.pop()\n",
        "\n",
        "      # Um operador é encontrado\n",
        "      else:\n",
        "        while (not self.isEmpty() and self.notGreater(i)):\n",
        "          self.output.append(self.pop())\n",
        "          self.push(i)\n",
        "    \n",
        "    # Remove todos os operadores da pilha\n",
        "    while not self.isEmpty():\n",
        "      self.output.append(self.pop())\n",
        "\n",
        "    print(\"\".join(self.output))"
      ],
      "metadata": {
        "id": "qU6LJD8xw04Q"
      },
      "execution_count": null,
      "outputs": []
    },
    {
      "cell_type": "markdown",
      "source": [
        "Programa de driver para testar a função acima"
      ],
      "metadata": {
        "id": "dAyk97iO2KPd"
      }
    },
    {
      "cell_type": "code",
      "source": [
        "exp = “a+b*(c^d-e)^(f+g*h)-i”\n",
        "obj = Conversion(len(exp))\n",
        "obj.infixToPostfix(exp)"
      ],
      "metadata": {
        "id": "giIAszsh2PvU"
      },
      "execution_count": null,
      "outputs": []
    }
  ]
}